{
 "cells": [
  {
   "cell_type": "code",
   "execution_count": 214,
   "metadata": {},
   "outputs": [
    {
     "name": "stderr",
     "output_type": "stream",
     "text": [
      "/anaconda3/lib/python3.6/site-packages/IPython/core/interactiveshell.py:2785: DtypeWarning: Columns (12) have mixed types. Specify dtype option on import or set low_memory=False.\n",
      "  interactivity=interactivity, compiler=compiler, result=result)\n"
     ]
    }
   ],
   "source": [
    "import pandas as pd\n",
    "salaries_df = pd.read_csv(\"/Users/amit/data/Salaries.csv\")"
   ]
  },
  {
   "cell_type": "code",
   "execution_count": 99,
   "metadata": {},
   "outputs": [
    {
     "name": "stdout",
     "output_type": "stream",
     "text": [
      "<class 'pandas.core.frame.DataFrame'>\n",
      "RangeIndex: 148648 entries, 0 to 148647\n",
      "Data columns (total 13 columns):\n",
      "Id                  148648 non-null int64\n",
      "EmployeeName        148648 non-null object\n",
      "JobTitle            148648 non-null object\n",
      "BasePay             148043 non-null float64\n",
      "OvertimePay         148648 non-null float64\n",
      "OtherPay            148648 non-null float64\n",
      "Benefits            112490 non-null float64\n",
      "TotalPay            148648 non-null float64\n",
      "TotalPayBenefits    148648 non-null float64\n",
      "Year                148648 non-null int64\n",
      "Notes               0 non-null float64\n",
      "Agency              148648 non-null object\n",
      "Status              38119 non-null object\n",
      "dtypes: float64(7), int64(2), object(4)\n",
      "memory usage: 14.7+ MB\n"
     ]
    }
   ],
   "source": [
    "salaries_df.info()"
   ]
  },
  {
   "cell_type": "code",
   "execution_count": 100,
   "metadata": {},
   "outputs": [
    {
     "data": {
      "text/html": [
       "<div>\n",
       "<style scoped>\n",
       "    .dataframe tbody tr th:only-of-type {\n",
       "        vertical-align: middle;\n",
       "    }\n",
       "\n",
       "    .dataframe tbody tr th {\n",
       "        vertical-align: top;\n",
       "    }\n",
       "\n",
       "    .dataframe thead th {\n",
       "        text-align: right;\n",
       "    }\n",
       "</style>\n",
       "<table border=\"1\" class=\"dataframe\">\n",
       "  <thead>\n",
       "    <tr style=\"text-align: right;\">\n",
       "      <th></th>\n",
       "      <th>Id</th>\n",
       "      <th>EmployeeName</th>\n",
       "      <th>JobTitle</th>\n",
       "      <th>BasePay</th>\n",
       "      <th>OvertimePay</th>\n",
       "      <th>OtherPay</th>\n",
       "      <th>Benefits</th>\n",
       "      <th>TotalPay</th>\n",
       "      <th>TotalPayBenefits</th>\n",
       "      <th>Year</th>\n",
       "      <th>Notes</th>\n",
       "      <th>Agency</th>\n",
       "      <th>Status</th>\n",
       "    </tr>\n",
       "  </thead>\n",
       "  <tbody>\n",
       "    <tr>\n",
       "      <th>0</th>\n",
       "      <td>1</td>\n",
       "      <td>NATHANIEL FORD</td>\n",
       "      <td>GENERAL MANAGER-METROPOLITAN TRANSIT AUTHORITY</td>\n",
       "      <td>167411.18</td>\n",
       "      <td>0.00</td>\n",
       "      <td>400184.25</td>\n",
       "      <td>NaN</td>\n",
       "      <td>567595.43</td>\n",
       "      <td>567595.43</td>\n",
       "      <td>2011</td>\n",
       "      <td>NaN</td>\n",
       "      <td>San Francisco</td>\n",
       "      <td>NaN</td>\n",
       "    </tr>\n",
       "    <tr>\n",
       "      <th>1</th>\n",
       "      <td>2</td>\n",
       "      <td>GARY JIMENEZ</td>\n",
       "      <td>CAPTAIN III (POLICE DEPARTMENT)</td>\n",
       "      <td>155966.02</td>\n",
       "      <td>245131.88</td>\n",
       "      <td>137811.38</td>\n",
       "      <td>NaN</td>\n",
       "      <td>538909.28</td>\n",
       "      <td>538909.28</td>\n",
       "      <td>2011</td>\n",
       "      <td>NaN</td>\n",
       "      <td>San Francisco</td>\n",
       "      <td>NaN</td>\n",
       "    </tr>\n",
       "    <tr>\n",
       "      <th>2</th>\n",
       "      <td>3</td>\n",
       "      <td>ALBERT PARDINI</td>\n",
       "      <td>CAPTAIN III (POLICE DEPARTMENT)</td>\n",
       "      <td>212739.13</td>\n",
       "      <td>106088.18</td>\n",
       "      <td>16452.60</td>\n",
       "      <td>NaN</td>\n",
       "      <td>335279.91</td>\n",
       "      <td>335279.91</td>\n",
       "      <td>2011</td>\n",
       "      <td>NaN</td>\n",
       "      <td>San Francisco</td>\n",
       "      <td>NaN</td>\n",
       "    </tr>\n",
       "    <tr>\n",
       "      <th>3</th>\n",
       "      <td>4</td>\n",
       "      <td>CHRISTOPHER CHONG</td>\n",
       "      <td>WIRE ROPE CABLE MAINTENANCE MECHANIC</td>\n",
       "      <td>77916.00</td>\n",
       "      <td>56120.71</td>\n",
       "      <td>198306.90</td>\n",
       "      <td>NaN</td>\n",
       "      <td>332343.61</td>\n",
       "      <td>332343.61</td>\n",
       "      <td>2011</td>\n",
       "      <td>NaN</td>\n",
       "      <td>San Francisco</td>\n",
       "      <td>NaN</td>\n",
       "    </tr>\n",
       "    <tr>\n",
       "      <th>4</th>\n",
       "      <td>5</td>\n",
       "      <td>PATRICK GARDNER</td>\n",
       "      <td>DEPUTY CHIEF OF DEPARTMENT,(FIRE DEPARTMENT)</td>\n",
       "      <td>134401.60</td>\n",
       "      <td>9737.00</td>\n",
       "      <td>182234.59</td>\n",
       "      <td>NaN</td>\n",
       "      <td>326373.19</td>\n",
       "      <td>326373.19</td>\n",
       "      <td>2011</td>\n",
       "      <td>NaN</td>\n",
       "      <td>San Francisco</td>\n",
       "      <td>NaN</td>\n",
       "    </tr>\n",
       "  </tbody>\n",
       "</table>\n",
       "</div>"
      ],
      "text/plain": [
       "   Id       EmployeeName                                        JobTitle  \\\n",
       "0   1     NATHANIEL FORD  GENERAL MANAGER-METROPOLITAN TRANSIT AUTHORITY   \n",
       "1   2       GARY JIMENEZ                 CAPTAIN III (POLICE DEPARTMENT)   \n",
       "2   3     ALBERT PARDINI                 CAPTAIN III (POLICE DEPARTMENT)   \n",
       "3   4  CHRISTOPHER CHONG            WIRE ROPE CABLE MAINTENANCE MECHANIC   \n",
       "4   5    PATRICK GARDNER    DEPUTY CHIEF OF DEPARTMENT,(FIRE DEPARTMENT)   \n",
       "\n",
       "     BasePay  OvertimePay   OtherPay  Benefits   TotalPay  TotalPayBenefits  \\\n",
       "0  167411.18         0.00  400184.25       NaN  567595.43         567595.43   \n",
       "1  155966.02    245131.88  137811.38       NaN  538909.28         538909.28   \n",
       "2  212739.13    106088.18   16452.60       NaN  335279.91         335279.91   \n",
       "3   77916.00     56120.71  198306.90       NaN  332343.61         332343.61   \n",
       "4  134401.60      9737.00  182234.59       NaN  326373.19         326373.19   \n",
       "\n",
       "   Year  Notes         Agency Status  \n",
       "0  2011    NaN  San Francisco    NaN  \n",
       "1  2011    NaN  San Francisco    NaN  \n",
       "2  2011    NaN  San Francisco    NaN  \n",
       "3  2011    NaN  San Francisco    NaN  \n",
       "4  2011    NaN  San Francisco    NaN  "
      ]
     },
     "execution_count": 100,
     "metadata": {},
     "output_type": "execute_result"
    }
   ],
   "source": [
    "salaries_df.head()"
   ]
  },
  {
   "cell_type": "code",
   "execution_count": 101,
   "metadata": {},
   "outputs": [],
   "source": [
    "salaries_year = salaries_df.groupby('Year').sum()['TotalPay']\n",
    "year_map = map(str, np.array(salaries_df.groupby('Year').sum()['TotalPay'].index))\n",
    "Year = [year for year in year_map]"
   ]
  },
  {
   "cell_type": "code",
   "execution_count": 102,
   "metadata": {},
   "outputs": [
    {
     "data": {
      "text/plain": [
       "['2011', '2012', '2013', '2014']"
      ]
     },
     "execution_count": 102,
     "metadata": {},
     "output_type": "execute_result"
    }
   ],
   "source": [
    "Year"
   ]
  },
  {
   "cell_type": "code",
   "execution_count": 103,
   "metadata": {},
   "outputs": [
    {
     "data": {
      "text/plain": [
       "[Text(0,0.5,'Salaries in Billion'),\n",
       " Text(0.5,0,'Year'),\n",
       " Text(0.5,1,'Total Salaries by Year')]"
      ]
     },
     "execution_count": 103,
     "metadata": {},
     "output_type": "execute_result"
    },
    {
     "data": {
      "image/png": "[encoded data removed]",
      "text/plain": [
       "<Figure size 432x288 with 1 Axes>"
      ]
     },
     "metadata": {},
     "output_type": "display_data"
    }
   ],
   "source": [
    "import matplotlib.pyplot as plt\n",
    "%matplotlib inline\n",
    "fig = plt.figure()\n",
    "ax = fig.add_subplot(1,1,1)\n",
    "ax.plot(Year, salaries_year, marker = 's', linestyle='--', label = 'y')\n",
    "ax.set(title = 'Total Salaries by Year', \n",
    "       xlabel = 'Year',\n",
    "       ylabel = 'Salaries in Billion')"
   ]
  },
  {
   "cell_type": "code",
   "execution_count": 104,
   "metadata": {},
   "outputs": [],
   "source": [
    "salary_change = salaries_year[2014] - salaries_year[2011]"
   ]
  },
  {
   "cell_type": "markdown",
   "metadata": {},
   "source": [
    "### Q1"
   ]
  },
  {
   "cell_type": "code",
   "execution_count": 105,
   "metadata": {},
   "outputs": [
    {
     "data": {
      "text/plain": [
       "282797920.53994226"
      ]
     },
     "execution_count": 105,
     "metadata": {},
     "output_type": "execute_result"
    }
   ],
   "source": [
    "salary_change"
   ]
  },
  {
   "cell_type": "code",
   "execution_count": 106,
   "metadata": {},
   "outputs": [],
   "source": [
    "salaries_2011 = salaries"
   ]
  },
  {
   "cell_type": "code",
   "execution_count": 107,
   "metadata": {},
   "outputs": [],
   "source": [
    "\n",
    "title_salary2011 = salaries[salaries[\"Year\"] == 2011].groupby('JobTitle').mean()['TotalPay']"
   ]
  },
  {
   "cell_type": "code",
   "execution_count": 108,
   "metadata": {},
   "outputs": [],
   "source": [
    "salaries = title_salary2011.sort_values()[-10:]\n",
    "titles = np.array(salaries.index)"
   ]
  },
  {
   "cell_type": "code",
   "execution_count": 109,
   "metadata": {},
   "outputs": [
    {
     "data": {
      "text/plain": [
       "<BarContainer object of 10 artists>"
      ]
     },
     "execution_count": 109,
     "metadata": {},
     "output_type": "execute_result"
    },
    {
     "data": {
      "image/png": "[encoded data removed]",
      "text/plain": [
       "<Figure size 1080x720 with 1 Axes>"
      ]
     },
     "metadata": {},
     "output_type": "display_data"
    }
   ],
   "source": [
    "fig = plt.figure(figsize=(15,10))\n",
    "ax = fig.add_subplot(1,1,1)\n",
    "ax.barh(titles, salaries)\n"
   ]
  },
  {
   "cell_type": "markdown",
   "metadata": {},
   "source": [
    "### Q2"
   ]
  },
  {
   "cell_type": "code",
   "execution_count": 110,
   "metadata": {},
   "outputs": [
    {
     "data": {
      "text/plain": [
       "'GENERAL MANAGER-METROPOLITAN TRANSIT AUTHORITY has the maximum mean salary in 2011'"
      ]
     },
     "execution_count": 110,
     "metadata": {},
     "output_type": "execute_result"
    }
   ],
   "source": [
    "\n",
    "f\"{salaries.index[-1]} has the maximum mean salary in 2011\""
   ]
  },
  {
   "cell_type": "markdown",
   "metadata": {},
   "source": [
    "### Q3\n",
    "How much money could have been saved in Year 2014 by stopping OverTimePay?"
   ]
  },
  {
   "cell_type": "code",
   "execution_count": 115,
   "metadata": {},
   "outputs": [],
   "source": [
    "salaries_2014 = salaries_df[salaries_df['Year'] == 2014]"
   ]
  },
  {
   "cell_type": "code",
   "execution_count": 118,
   "metadata": {},
   "outputs": [
    {
     "data": {
      "text/plain": [
       "205918599.26999998"
      ]
     },
     "execution_count": 118,
     "metadata": {},
     "output_type": "execute_result"
    }
   ],
   "source": [
    "np.sum(salaries_2014['OvertimePay'])"
   ]
  },
  {
   "cell_type": "markdown",
   "metadata": {},
   "source": [
    "### Q4\n",
    "Which are the top 5 common job in Year 2014 and how much do they cost SFO ?"
   ]
  },
  {
   "cell_type": "code",
   "execution_count": 160,
   "metadata": {},
   "outputs": [],
   "source": [
    "salaries_2014 = salaries_df[salaries_df['Year'] == 2014]"
   ]
  },
  {
   "cell_type": "code",
   "execution_count": 161,
   "metadata": {},
   "outputs": [],
   "source": [
    "job_titles = salaries_2011.groupby('JobTitle').count()['Id'].sort_values()[-5:]"
   ]
  },
  {
   "cell_type": "code",
   "execution_count": 162,
   "metadata": {},
   "outputs": [
    {
     "data": {
      "text/plain": [
       "Index(['Firefighter', 'Public Svc Aide-Public Works', 'Registered Nurse',\n",
       "       'Special Nurse', 'Transit Operator'],\n",
       "      dtype='object', name='JobTitle')"
      ]
     },
     "execution_count": 162,
     "metadata": {},
     "output_type": "execute_result"
    }
   ],
   "source": [
    "job_titles.index"
   ]
  },
  {
   "cell_type": "code",
   "execution_count": 163,
   "metadata": {},
   "outputs": [],
   "source": [
    "title = np.array(job_titles.index)\n",
    "Count = job_titles"
   ]
  },
  {
   "cell_type": "code",
   "execution_count": 164,
   "metadata": {},
   "outputs": [
    {
     "data": {
      "text/plain": [
       "<BarContainer object of 5 artists>"
      ]
     },
     "execution_count": 164,
     "metadata": {},
     "output_type": "execute_result"
    },
    {
     "data": {
      "image/png": "[encoded data removed]",
      "text/plain": [
       "<Figure size 1080x864 with 1 Axes>"
      ]
     },
     "metadata": {},
     "output_type": "display_data"
    }
   ],
   "source": [
    "fig = plt.figure(figsize = (15,12))\n",
    "ax = fig.add_subplot(1,1,1)\n",
    "ax.bar(title, Count)"
   ]
  },
  {
   "cell_type": "code",
   "execution_count": 165,
   "metadata": {},
   "outputs": [
    {
     "data": {
      "text/plain": [
       "array(['Firefighter', 'Public Svc Aide-Public Works', 'Registered Nurse',\n",
       "       'Special Nurse', 'Transit Operator'], dtype=object)"
      ]
     },
     "execution_count": 165,
     "metadata": {},
     "output_type": "execute_result"
    }
   ],
   "source": [
    "title"
   ]
  },
  {
   "cell_type": "code",
   "execution_count": 167,
   "metadata": {},
   "outputs": [],
   "source": [
    "salaries_2014_sfo = salaries_2014[salaries_2014['Agency'] == 'San Francisco']"
   ]
  },
  {
   "cell_type": "code",
   "execution_count": 172,
   "metadata": {},
   "outputs": [],
   "source": [
    "salaries_2014_sfo_title = salaries_2014_sfo.groupby('JobTitle').sum()['TotalPay']"
   ]
  },
  {
   "cell_type": "code",
   "execution_count": 178,
   "metadata": {},
   "outputs": [],
   "source": [
    "salaries_2014_sfo_title = {t: salaries_2014_sfo_title[t] for t in title}"
   ]
  },
  {
   "cell_type": "code",
   "execution_count": 196,
   "metadata": {},
   "outputs": [
    {
     "data": {
      "text/plain": [
       "[<matplotlib.lines.Line2D at 0x12b1d4a90>]"
      ]
     },
     "execution_count": 196,
     "metadata": {},
     "output_type": "execute_result"
    },
    {
     "data": {
      "image/png": "[encoded data removed]",
      "text/plain": [
       "<Figure size 1800x864 with 2 Axes>"
      ]
     },
     "metadata": {},
     "output_type": "display_data"
    }
   ],
   "source": [
    "fig = plt.figure(figsize = (25,12))\n",
    "ax = fig.add_subplot(1, 2, 1)\n",
    "ax.bar(title, Count)\n",
    "ax2 = fig.add_subplot(1, 2, 2)\n",
    "ax2.plot(title, salaries_2014_sfo_title.values())"
   ]
  },
  {
   "cell_type": "code",
   "execution_count": 201,
   "metadata": {},
   "outputs": [
    {
     "name": "stdout",
     "output_type": "stream",
     "text": [
      "Firefighter in San Francisco costs: 113283574\n",
      "Public Svc Aide-Public Works in San Francisco costs: 8535453\n",
      "Registered Nurse in San Francisco costs: 144406501\n",
      "Special Nurse in San Francisco costs: 49498738\n",
      "Transit Operator in San Francisco costs: 152007977\n"
     ]
    }
   ],
   "source": [
    "for title in salaries_2014_sfo_title:\n",
    "    print(f\"{title} in San Francisco costs: {int(salaries_2014_sfo_title[title])}\")"
   ]
  },
  {
   "cell_type": "markdown",
   "metadata": {},
   "source": [
    "### Q5\n",
    "Who was the top earning employee across all the years"
   ]
  },
  {
   "cell_type": "code",
   "execution_count": 215,
   "metadata": {},
   "outputs": [],
   "source": [
    "salaries_df = salaries_df.set_index(\"Id\")"
   ]
  },
  {
   "cell_type": "code",
   "execution_count": 223,
   "metadata": {},
   "outputs": [],
   "source": [
    "max_salary = max(salaries_df.TotalPayBenefits)"
   ]
  },
  {
   "cell_type": "code",
   "execution_count": 222,
   "metadata": {},
   "outputs": [
    {
     "data": {
      "text/html": [
       "<div>\n",
       "<style scoped>\n",
       "    .dataframe tbody tr th:only-of-type {\n",
       "        vertical-align: middle;\n",
       "    }\n",
       "\n",
       "    .dataframe tbody tr th {\n",
       "        vertical-align: top;\n",
       "    }\n",
       "\n",
       "    .dataframe thead th {\n",
       "        text-align: right;\n",
       "    }\n",
       "</style>\n",
       "<table border=\"1\" class=\"dataframe\">\n",
       "  <thead>\n",
       "    <tr style=\"text-align: right;\">\n",
       "      <th></th>\n",
       "      <th>EmployeeName</th>\n",
       "      <th>JobTitle</th>\n",
       "      <th>BasePay</th>\n",
       "      <th>OvertimePay</th>\n",
       "      <th>OtherPay</th>\n",
       "      <th>Benefits</th>\n",
       "      <th>TotalPay</th>\n",
       "      <th>TotalPayBenefits</th>\n",
       "      <th>Year</th>\n",
       "      <th>Notes</th>\n",
       "      <th>Agency</th>\n",
       "      <th>Status</th>\n",
       "    </tr>\n",
       "    <tr>\n",
       "      <th>Id</th>\n",
       "      <th></th>\n",
       "      <th></th>\n",
       "      <th></th>\n",
       "      <th></th>\n",
       "      <th></th>\n",
       "      <th></th>\n",
       "      <th></th>\n",
       "      <th></th>\n",
       "      <th></th>\n",
       "      <th></th>\n",
       "      <th></th>\n",
       "      <th></th>\n",
       "    </tr>\n",
       "  </thead>\n",
       "  <tbody>\n",
       "    <tr>\n",
       "      <th>1</th>\n",
       "      <td>NATHANIEL FORD</td>\n",
       "      <td>GENERAL MANAGER-METROPOLITAN TRANSIT AUTHORITY</td>\n",
       "      <td>167411.18</td>\n",
       "      <td>0.0</td>\n",
       "      <td>400184.25</td>\n",
       "      <td>NaN</td>\n",
       "      <td>567595.43</td>\n",
       "      <td>567595.43</td>\n",
       "      <td>2011</td>\n",
       "      <td>NaN</td>\n",
       "      <td>San Francisco</td>\n",
       "      <td>NaN</td>\n",
       "    </tr>\n",
       "  </tbody>\n",
       "</table>\n",
       "</div>"
      ],
      "text/plain": [
       "      EmployeeName                                        JobTitle    BasePay  \\\n",
       "Id                                                                              \n",
       "1   NATHANIEL FORD  GENERAL MANAGER-METROPOLITAN TRANSIT AUTHORITY  167411.18   \n",
       "\n",
       "    OvertimePay   OtherPay  Benefits   TotalPay  TotalPayBenefits  Year  \\\n",
       "Id                                                                        \n",
       "1           0.0  400184.25       NaN  567595.43         567595.43  2011   \n",
       "\n",
       "    Notes         Agency Status  \n",
       "Id                               \n",
       "1     NaN  San Francisco    NaN  "
      ]
     },
     "execution_count": 222,
     "metadata": {},
     "output_type": "execute_result"
    }
   ],
   "source": [
    "salaries_df[salaries_df.TotalPayBenefits == max_salary]"
   ]
  },
  {
   "cell_type": "code",
   "execution_count": 219,
   "metadata": {},
   "outputs": [
    {
     "name": "stdout",
     "output_type": "stream",
     "text": [
      "EmployeeName\n",
      "Joe Lopez                   -618.13\n",
      "David P Kucia                -33.89\n",
      "Mark E Laherty                -8.20\n",
      "Timothy E Gibson              -2.73\n",
      "Mark W Mcclure                 0.00\n",
      "PAULETTE ADAMS                 0.00\n",
      "KAUKAB MOHSIN                  0.00\n",
      "JOSEPHINE MCCREARY             0.00\n",
      "Charlene D Mccully             0.00\n",
      "JOE BROWN JR                   0.30\n",
      "Donald Clark                   1.91\n",
      "SERENA HUGHES                  4.17\n",
      "John Draper                    5.17\n",
      "Nereida  Vega                  5.56\n",
      "ROCK CRAWFORD                  5.80\n",
      "MARCELLA TUCKER                8.86\n",
      "Arthur L Curry                10.67\n",
      "Roberto A Perez Lima          11.33\n",
      "Darius T Gardner              11.33\n",
      "Chinaenye E Nwachukwu         12.14\n",
      "Mouy  Him                     12.14\n",
      "Mengru  Chen                  12.14\n",
      "John Carajan                  12.90\n",
      "Kenneth Mackey                15.35\n",
      "Carlos J Hernadez             15.99\n",
      "Guillermo A Rodriguez         16.19\n",
      "MARVA MOORE                   17.42\n",
      "WALTER WILLIAMS               17.78\n",
      "ANH LUU                       18.78\n",
      "Simone Koga                   19.91\n",
      "                            ...    \n",
      "Steven  Lee               772100.81\n",
      "Henry Yee                 785480.98\n",
      "Michael Wong              787388.08\n",
      "Michael Lee               792816.38\n",
      "Harlan L Kelly-Jr         794616.56\n",
      "William Lee               794871.35\n",
      "Ana Gonzalez              795145.15\n",
      "David L Franklin          799045.86\n",
      "John Lee                  799287.73\n",
      "KEVIN LEE                 809424.84\n",
      "Ellen G Moffatt           817504.82\n",
      "Frank Lee                 823942.97\n",
      "Ryan J Jones              824661.39\n",
      "Thomas Smith              831608.57\n",
      "Joanne M Hayes-White      839788.50\n",
      "Gregory P Suhr            843834.50\n",
      "David Shinn               844056.71\n",
      "Amy P Hart                863398.99\n",
      "John Miller               874900.73\n",
      "Robert Wong               901466.16\n",
      "Michael Brown             907786.48\n",
      "John Chan                 946239.26\n",
      "Alan Wong                1011610.58\n",
      "Wayne Wong               1021109.55\n",
      "John L Martin            1054756.22\n",
      "Richard Lee              1268668.84\n",
      "Stanley Lee              1457279.68\n",
      "William Wong             1459954.17\n",
      "Steven Lee               1706550.76\n",
      "Kevin Lee                1778487.17\n",
      "Name: TotalPayBenefits, Length: 110809, dtype: float64\n"
     ]
    }
   ],
   "source": [
    "top_sal = salaries_df.groupby('EmployeeName').sum()['TotalPayBenefits']\n",
    "print((top_sal.sort_values(axis=0)))"
   ]
  },
  {
   "cell_type": "code",
   "execution_count": 224,
   "metadata": {},
   "outputs": [
    {
     "data": {
      "text/plain": [
       "567595.43"
      ]
     },
     "execution_count": 224,
     "metadata": {},
     "output_type": "execute_result"
    }
   ],
   "source": [
    "max_salary"
   ]
  },
  {
   "cell_type": "code",
   "execution_count": 227,
   "metadata": {},
   "outputs": [
    {
     "data": {
      "text/html": [
       "<div>\n",
       "<style scoped>\n",
       "    .dataframe tbody tr th:only-of-type {\n",
       "        vertical-align: middle;\n",
       "    }\n",
       "\n",
       "    .dataframe tbody tr th {\n",
       "        vertical-align: top;\n",
       "    }\n",
       "\n",
       "    .dataframe thead th {\n",
       "        text-align: right;\n",
       "    }\n",
       "</style>\n",
       "<table border=\"1\" class=\"dataframe\">\n",
       "  <thead>\n",
       "    <tr style=\"text-align: right;\">\n",
       "      <th></th>\n",
       "      <th>EmployeeName</th>\n",
       "      <th>JobTitle</th>\n",
       "      <th>BasePay</th>\n",
       "      <th>OvertimePay</th>\n",
       "      <th>OtherPay</th>\n",
       "      <th>Benefits</th>\n",
       "      <th>TotalPay</th>\n",
       "      <th>TotalPayBenefits</th>\n",
       "      <th>Year</th>\n",
       "      <th>Notes</th>\n",
       "      <th>Agency</th>\n",
       "      <th>Status</th>\n",
       "    </tr>\n",
       "    <tr>\n",
       "      <th>Id</th>\n",
       "      <th></th>\n",
       "      <th></th>\n",
       "      <th></th>\n",
       "      <th></th>\n",
       "      <th></th>\n",
       "      <th></th>\n",
       "      <th></th>\n",
       "      <th></th>\n",
       "      <th></th>\n",
       "      <th></th>\n",
       "      <th></th>\n",
       "      <th></th>\n",
       "    </tr>\n",
       "  </thead>\n",
       "  <tbody>\n",
       "    <tr>\n",
       "      <th>39716</th>\n",
       "      <td>Kevin Lee</td>\n",
       "      <td>Police Officer 3</td>\n",
       "      <td>115866.90</td>\n",
       "      <td>23523.30</td>\n",
       "      <td>9313.54</td>\n",
       "      <td>34906.20</td>\n",
       "      <td>148703.74</td>\n",
       "      <td>183609.94</td>\n",
       "      <td>2012</td>\n",
       "      <td>NaN</td>\n",
       "      <td>San Francisco</td>\n",
       "      <td>NaN</td>\n",
       "    </tr>\n",
       "    <tr>\n",
       "      <th>40571</th>\n",
       "      <td>Kevin Lee</td>\n",
       "      <td>Police Officer 3</td>\n",
       "      <td>117171.41</td>\n",
       "      <td>19606.88</td>\n",
       "      <td>4244.90</td>\n",
       "      <td>34610.10</td>\n",
       "      <td>141023.19</td>\n",
       "      <td>175633.29</td>\n",
       "      <td>2012</td>\n",
       "      <td>NaN</td>\n",
       "      <td>San Francisco</td>\n",
       "      <td>NaN</td>\n",
       "    </tr>\n",
       "    <tr>\n",
       "      <th>42511</th>\n",
       "      <td>Kevin Lee</td>\n",
       "      <td>Electrical Transit System Mech</td>\n",
       "      <td>79220.54</td>\n",
       "      <td>40247.39</td>\n",
       "      <td>3353.49</td>\n",
       "      <td>38781.04</td>\n",
       "      <td>122821.42</td>\n",
       "      <td>161602.46</td>\n",
       "      <td>2012</td>\n",
       "      <td>NaN</td>\n",
       "      <td>San Francisco</td>\n",
       "      <td>NaN</td>\n",
       "    </tr>\n",
       "    <tr>\n",
       "      <th>49271</th>\n",
       "      <td>Kevin Lee</td>\n",
       "      <td>Deputy Court Clerk III</td>\n",
       "      <td>84512.32</td>\n",
       "      <td>0.00</td>\n",
       "      <td>1469.99</td>\n",
       "      <td>36080.30</td>\n",
       "      <td>85982.31</td>\n",
       "      <td>122062.61</td>\n",
       "      <td>2012</td>\n",
       "      <td>NaN</td>\n",
       "      <td>San Francisco</td>\n",
       "      <td>NaN</td>\n",
       "    </tr>\n",
       "    <tr>\n",
       "      <th>49440</th>\n",
       "      <td>Kevin Lee</td>\n",
       "      <td>Deputy Court Clerk III</td>\n",
       "      <td>84512.34</td>\n",
       "      <td>0.00</td>\n",
       "      <td>975.44</td>\n",
       "      <td>35902.02</td>\n",
       "      <td>85487.78</td>\n",
       "      <td>121389.80</td>\n",
       "      <td>2012</td>\n",
       "      <td>NaN</td>\n",
       "      <td>San Francisco</td>\n",
       "      <td>NaN</td>\n",
       "    </tr>\n",
       "    <tr>\n",
       "      <th>50124</th>\n",
       "      <td>Kevin Lee</td>\n",
       "      <td>Personnel Analyst</td>\n",
       "      <td>83382.00</td>\n",
       "      <td>0.00</td>\n",
       "      <td>0.00</td>\n",
       "      <td>35210.59</td>\n",
       "      <td>83382.00</td>\n",
       "      <td>118592.59</td>\n",
       "      <td>2012</td>\n",
       "      <td>NaN</td>\n",
       "      <td>San Francisco</td>\n",
       "      <td>NaN</td>\n",
       "    </tr>\n",
       "    <tr>\n",
       "      <th>52234</th>\n",
       "      <td>Kevin Lee</td>\n",
       "      <td>Senior Parking Control Officer</td>\n",
       "      <td>66774.03</td>\n",
       "      <td>9599.08</td>\n",
       "      <td>1092.62</td>\n",
       "      <td>31902.38</td>\n",
       "      <td>77465.73</td>\n",
       "      <td>109368.11</td>\n",
       "      <td>2012</td>\n",
       "      <td>NaN</td>\n",
       "      <td>San Francisco</td>\n",
       "      <td>NaN</td>\n",
       "    </tr>\n",
       "    <tr>\n",
       "      <th>53932</th>\n",
       "      <td>Kevin Lee</td>\n",
       "      <td>Transit Operator</td>\n",
       "      <td>57397.32</td>\n",
       "      <td>9989.83</td>\n",
       "      <td>1800.48</td>\n",
       "      <td>34577.54</td>\n",
       "      <td>69187.63</td>\n",
       "      <td>103765.17</td>\n",
       "      <td>2012</td>\n",
       "      <td>NaN</td>\n",
       "      <td>San Francisco</td>\n",
       "      <td>NaN</td>\n",
       "    </tr>\n",
       "    <tr>\n",
       "      <th>55120</th>\n",
       "      <td>Kevin Lee</td>\n",
       "      <td>IS Administrator 2</td>\n",
       "      <td>68940.44</td>\n",
       "      <td>0.00</td>\n",
       "      <td>0.00</td>\n",
       "      <td>30650.48</td>\n",
       "      <td>68940.44</td>\n",
       "      <td>99590.92</td>\n",
       "      <td>2012</td>\n",
       "      <td>NaN</td>\n",
       "      <td>San Francisco</td>\n",
       "      <td>NaN</td>\n",
       "    </tr>\n",
       "    <tr>\n",
       "      <th>112386</th>\n",
       "      <td>Kevin Lee</td>\n",
       "      <td>Sergeant 3</td>\n",
       "      <td>137982.14</td>\n",
       "      <td>18537.19</td>\n",
       "      <td>16039.62</td>\n",
       "      <td>43039.12</td>\n",
       "      <td>172558.95</td>\n",
       "      <td>215598.07</td>\n",
       "      <td>2014</td>\n",
       "      <td>NaN</td>\n",
       "      <td>San Francisco</td>\n",
       "      <td>FT</td>\n",
       "    </tr>\n",
       "    <tr>\n",
       "      <th>123142</th>\n",
       "      <td>Kevin Lee</td>\n",
       "      <td>IT Operations Support Admin IV</td>\n",
       "      <td>91606.03</td>\n",
       "      <td>0.00</td>\n",
       "      <td>1013.00</td>\n",
       "      <td>34109.61</td>\n",
       "      <td>92619.03</td>\n",
       "      <td>126728.64</td>\n",
       "      <td>2014</td>\n",
       "      <td>NaN</td>\n",
       "      <td>San Francisco</td>\n",
       "      <td>FT</td>\n",
       "    </tr>\n",
       "    <tr>\n",
       "      <th>124166</th>\n",
       "      <td>Kevin Lee</td>\n",
       "      <td>Personnel Analyst</td>\n",
       "      <td>88353.01</td>\n",
       "      <td>0.00</td>\n",
       "      <td>0.00</td>\n",
       "      <td>33172.33</td>\n",
       "      <td>88353.01</td>\n",
       "      <td>121525.34</td>\n",
       "      <td>2014</td>\n",
       "      <td>NaN</td>\n",
       "      <td>San Francisco</td>\n",
       "      <td>FT</td>\n",
       "    </tr>\n",
       "    <tr>\n",
       "      <th>124659</th>\n",
       "      <td>Kevin Lee</td>\n",
       "      <td>Transit Operator</td>\n",
       "      <td>67230.30</td>\n",
       "      <td>10961.25</td>\n",
       "      <td>4050.85</td>\n",
       "      <td>36777.83</td>\n",
       "      <td>82242.40</td>\n",
       "      <td>119020.23</td>\n",
       "      <td>2014</td>\n",
       "      <td>NaN</td>\n",
       "      <td>San Francisco</td>\n",
       "      <td>FT</td>\n",
       "    </tr>\n",
       "  </tbody>\n",
       "</table>\n",
       "</div>"
      ],
      "text/plain": [
       "       EmployeeName                        JobTitle    BasePay  OvertimePay  \\\n",
       "Id                                                                            \n",
       "39716     Kevin Lee                Police Officer 3  115866.90     23523.30   \n",
       "40571     Kevin Lee                Police Officer 3  117171.41     19606.88   \n",
       "42511     Kevin Lee  Electrical Transit System Mech   79220.54     40247.39   \n",
       "49271     Kevin Lee          Deputy Court Clerk III   84512.32         0.00   \n",
       "49440     Kevin Lee          Deputy Court Clerk III   84512.34         0.00   \n",
       "50124     Kevin Lee               Personnel Analyst   83382.00         0.00   \n",
       "52234     Kevin Lee  Senior Parking Control Officer   66774.03      9599.08   \n",
       "53932     Kevin Lee                Transit Operator   57397.32      9989.83   \n",
       "55120     Kevin Lee              IS Administrator 2   68940.44         0.00   \n",
       "112386    Kevin Lee                      Sergeant 3  137982.14     18537.19   \n",
       "123142    Kevin Lee  IT Operations Support Admin IV   91606.03         0.00   \n",
       "124166    Kevin Lee               Personnel Analyst   88353.01         0.00   \n",
       "124659    Kevin Lee                Transit Operator   67230.30     10961.25   \n",
       "\n",
       "        OtherPay  Benefits   TotalPay  TotalPayBenefits  Year  Notes  \\\n",
       "Id                                                                     \n",
       "39716    9313.54  34906.20  148703.74         183609.94  2012    NaN   \n",
       "40571    4244.90  34610.10  141023.19         175633.29  2012    NaN   \n",
       "42511    3353.49  38781.04  122821.42         161602.46  2012    NaN   \n",
       "49271    1469.99  36080.30   85982.31         122062.61  2012    NaN   \n",
       "49440     975.44  35902.02   85487.78         121389.80  2012    NaN   \n",
       "50124       0.00  35210.59   83382.00         118592.59  2012    NaN   \n",
       "52234    1092.62  31902.38   77465.73         109368.11  2012    NaN   \n",
       "53932    1800.48  34577.54   69187.63         103765.17  2012    NaN   \n",
       "55120       0.00  30650.48   68940.44          99590.92  2012    NaN   \n",
       "112386  16039.62  43039.12  172558.95         215598.07  2014    NaN   \n",
       "123142   1013.00  34109.61   92619.03         126728.64  2014    NaN   \n",
       "124166      0.00  33172.33   88353.01         121525.34  2014    NaN   \n",
       "124659   4050.85  36777.83   82242.40         119020.23  2014    NaN   \n",
       "\n",
       "               Agency Status  \n",
       "Id                            \n",
       "39716   San Francisco    NaN  \n",
       "40571   San Francisco    NaN  \n",
       "42511   San Francisco    NaN  \n",
       "49271   San Francisco    NaN  \n",
       "49440   San Francisco    NaN  \n",
       "50124   San Francisco    NaN  \n",
       "52234   San Francisco    NaN  \n",
       "53932   San Francisco    NaN  \n",
       "55120   San Francisco    NaN  \n",
       "112386  San Francisco     FT  \n",
       "123142  San Francisco     FT  \n",
       "124166  San Francisco     FT  \n",
       "124659  San Francisco     FT  "
      ]
     },
     "execution_count": 227,
     "metadata": {},
     "output_type": "execute_result"
    }
   ],
   "source": [
    "salaries_df[salaries_df['EmployeeName'] == 'Kevin Lee']"
   ]
  },
  {
   "cell_type": "code",
   "execution_count": null,
   "metadata": {},
   "outputs": [],
   "source": []
  }
 ],
 "metadata": {
  "kernelspec": {
   "display_name": "Python 3",
   "language": "python",
   "name": "python3"
  },
  "language_info": {
   "codemirror_mode": {
    "name": "ipython",
    "version": 3
   },
   "file_extension": ".py",
   "mimetype": "text/x-python",
   "name": "python",
   "nbconvert_exporter": "python",
   "pygments_lexer": "ipython3",
   "version": "3.6.5"
  }
 },
 "nbformat": 4,
 "nbformat_minor": 2
}
