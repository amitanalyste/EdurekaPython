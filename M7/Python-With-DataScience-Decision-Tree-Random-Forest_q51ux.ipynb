{
 "cells": [
  {
   "cell_type": "markdown",
   "metadata": {},
   "source": [
    "Storm Classification Problem\n",
    "\n",
    "Objective\n",
    "Given a Dataset classify the storms into hurricanes, typhoons and their sub categories. \n",
    "Use Pre defined classes of storms are already given in the dataset as a base for Classification."
   ]
  },
  {
   "cell_type": "code",
   "execution_count": 91,
   "metadata": {},
   "outputs": [],
   "source": [
    "#### Package Libraries\n",
    "\n",
    " # Math package\n",
    "import numpy as np\n",
    "\n",
    "# data processing, CSV file I/O (e.g. pd.read_csv), data manipulation as in SQL\n",
    "import pandas as pd\n",
    "\n",
    "### Visualization tools\n",
    "import matplotlib.pyplot as plt # this is used for the plot the graph\n",
    "import seaborn as sns # used for plot interactive graph. I like it most for plot\n"
   ]
  },
  {
   "cell_type": "code",
   "execution_count": null,
   "metadata": {},
   "outputs": [],
   "source": []
  },
  {
   "cell_type": "code",
   "execution_count": 92,
   "metadata": {},
   "outputs": [],
   "source": [
    "from sklearn.ensemble import RandomForestClassifier\n",
    "\n",
    "from sklearn.metrics import confusion_matrix\n",
    "\n",
    "from sklearn.metrics import accuracy_score\n",
    "# To import the svm classifier"
   ]
  },
  {
   "cell_type": "code",
   "execution_count": 93,
   "metadata": {},
   "outputs": [],
   "source": [
    "## Read the data\n",
    "pacific_data = pd.read_csv('pacific.csv')"
   ]
  },
  {
   "cell_type": "code",
   "execution_count": 94,
   "metadata": {},
   "outputs": [
    {
     "data": {
      "text/html": [
       "<div>\n",
       "<style scoped>\n",
       "    .dataframe tbody tr th:only-of-type {\n",
       "        vertical-align: middle;\n",
       "    }\n",
       "\n",
       "    .dataframe tbody tr th {\n",
       "        vertical-align: top;\n",
       "    }\n",
       "\n",
       "    .dataframe thead th {\n",
       "        text-align: right;\n",
       "    }\n",
       "</style>\n",
       "<table border=\"1\" class=\"dataframe\">\n",
       "  <thead>\n",
       "    <tr style=\"text-align: right;\">\n",
       "      <th></th>\n",
       "      <th>ID</th>\n",
       "      <th>Name</th>\n",
       "      <th>Date</th>\n",
       "      <th>Time</th>\n",
       "      <th>Event</th>\n",
       "      <th>Status</th>\n",
       "      <th>Latitude</th>\n",
       "      <th>Longitude</th>\n",
       "      <th>Maximum Wind</th>\n",
       "      <th>Minimum Pressure</th>\n",
       "      <th>...</th>\n",
       "      <th>Low Wind SW</th>\n",
       "      <th>Low Wind NW</th>\n",
       "      <th>Moderate Wind NE</th>\n",
       "      <th>Moderate Wind SE</th>\n",
       "      <th>Moderate Wind SW</th>\n",
       "      <th>Moderate Wind NW</th>\n",
       "      <th>High Wind NE</th>\n",
       "      <th>High Wind SE</th>\n",
       "      <th>High Wind SW</th>\n",
       "      <th>High Wind NW</th>\n",
       "    </tr>\n",
       "  </thead>\n",
       "  <tbody>\n",
       "    <tr>\n",
       "      <th>0</th>\n",
       "      <td>EP011949</td>\n",
       "      <td>UNNAMED</td>\n",
       "      <td>19490611</td>\n",
       "      <td>0</td>\n",
       "      <td></td>\n",
       "      <td>TS</td>\n",
       "      <td>20.2N</td>\n",
       "      <td>106.3W</td>\n",
       "      <td>45</td>\n",
       "      <td>-999</td>\n",
       "      <td>...</td>\n",
       "      <td>-999</td>\n",
       "      <td>-999</td>\n",
       "      <td>-999</td>\n",
       "      <td>-999</td>\n",
       "      <td>-999</td>\n",
       "      <td>-999</td>\n",
       "      <td>-999</td>\n",
       "      <td>-999</td>\n",
       "      <td>-999</td>\n",
       "      <td>-999</td>\n",
       "    </tr>\n",
       "    <tr>\n",
       "      <th>1</th>\n",
       "      <td>EP011949</td>\n",
       "      <td>UNNAMED</td>\n",
       "      <td>19490611</td>\n",
       "      <td>600</td>\n",
       "      <td></td>\n",
       "      <td>TS</td>\n",
       "      <td>20.2N</td>\n",
       "      <td>106.4W</td>\n",
       "      <td>45</td>\n",
       "      <td>-999</td>\n",
       "      <td>...</td>\n",
       "      <td>-999</td>\n",
       "      <td>-999</td>\n",
       "      <td>-999</td>\n",
       "      <td>-999</td>\n",
       "      <td>-999</td>\n",
       "      <td>-999</td>\n",
       "      <td>-999</td>\n",
       "      <td>-999</td>\n",
       "      <td>-999</td>\n",
       "      <td>-999</td>\n",
       "    </tr>\n",
       "    <tr>\n",
       "      <th>2</th>\n",
       "      <td>EP011949</td>\n",
       "      <td>UNNAMED</td>\n",
       "      <td>19490611</td>\n",
       "      <td>1200</td>\n",
       "      <td></td>\n",
       "      <td>TS</td>\n",
       "      <td>20.2N</td>\n",
       "      <td>106.7W</td>\n",
       "      <td>45</td>\n",
       "      <td>-999</td>\n",
       "      <td>...</td>\n",
       "      <td>-999</td>\n",
       "      <td>-999</td>\n",
       "      <td>-999</td>\n",
       "      <td>-999</td>\n",
       "      <td>-999</td>\n",
       "      <td>-999</td>\n",
       "      <td>-999</td>\n",
       "      <td>-999</td>\n",
       "      <td>-999</td>\n",
       "      <td>-999</td>\n",
       "    </tr>\n",
       "    <tr>\n",
       "      <th>3</th>\n",
       "      <td>EP011949</td>\n",
       "      <td>UNNAMED</td>\n",
       "      <td>19490611</td>\n",
       "      <td>1800</td>\n",
       "      <td></td>\n",
       "      <td>TS</td>\n",
       "      <td>20.3N</td>\n",
       "      <td>107.7W</td>\n",
       "      <td>45</td>\n",
       "      <td>-999</td>\n",
       "      <td>...</td>\n",
       "      <td>-999</td>\n",
       "      <td>-999</td>\n",
       "      <td>-999</td>\n",
       "      <td>-999</td>\n",
       "      <td>-999</td>\n",
       "      <td>-999</td>\n",
       "      <td>-999</td>\n",
       "      <td>-999</td>\n",
       "      <td>-999</td>\n",
       "      <td>-999</td>\n",
       "    </tr>\n",
       "    <tr>\n",
       "      <th>4</th>\n",
       "      <td>EP011949</td>\n",
       "      <td>UNNAMED</td>\n",
       "      <td>19490612</td>\n",
       "      <td>0</td>\n",
       "      <td></td>\n",
       "      <td>TS</td>\n",
       "      <td>20.4N</td>\n",
       "      <td>108.6W</td>\n",
       "      <td>45</td>\n",
       "      <td>-999</td>\n",
       "      <td>...</td>\n",
       "      <td>-999</td>\n",
       "      <td>-999</td>\n",
       "      <td>-999</td>\n",
       "      <td>-999</td>\n",
       "      <td>-999</td>\n",
       "      <td>-999</td>\n",
       "      <td>-999</td>\n",
       "      <td>-999</td>\n",
       "      <td>-999</td>\n",
       "      <td>-999</td>\n",
       "    </tr>\n",
       "  </tbody>\n",
       "</table>\n",
       "<p>5 rows × 22 columns</p>\n",
       "</div>"
      ],
      "text/plain": [
       "         ID                 Name      Date  Time Event Status Latitude  \\\n",
       "0  EP011949              UNNAMED  19490611     0           TS    20.2N   \n",
       "1  EP011949              UNNAMED  19490611   600           TS    20.2N   \n",
       "2  EP011949              UNNAMED  19490611  1200           TS    20.2N   \n",
       "3  EP011949              UNNAMED  19490611  1800           TS    20.3N   \n",
       "4  EP011949              UNNAMED  19490612     0           TS    20.4N   \n",
       "\n",
       "  Longitude  Maximum Wind  Minimum Pressure      ...       Low Wind SW  \\\n",
       "0    106.3W            45              -999      ...              -999   \n",
       "1    106.4W            45              -999      ...              -999   \n",
       "2    106.7W            45              -999      ...              -999   \n",
       "3    107.7W            45              -999      ...              -999   \n",
       "4    108.6W            45              -999      ...              -999   \n",
       "\n",
       "   Low Wind NW  Moderate Wind NE  Moderate Wind SE  Moderate Wind SW  \\\n",
       "0         -999              -999              -999              -999   \n",
       "1         -999              -999              -999              -999   \n",
       "2         -999              -999              -999              -999   \n",
       "3         -999              -999              -999              -999   \n",
       "4         -999              -999              -999              -999   \n",
       "\n",
       "   Moderate Wind NW  High Wind NE  High Wind SE  High Wind SW  High Wind NW  \n",
       "0              -999          -999          -999          -999          -999  \n",
       "1              -999          -999          -999          -999          -999  \n",
       "2              -999          -999          -999          -999          -999  \n",
       "3              -999          -999          -999          -999          -999  \n",
       "4              -999          -999          -999          -999          -999  \n",
       "\n",
       "[5 rows x 22 columns]"
      ]
     },
     "execution_count": 94,
     "metadata": {},
     "output_type": "execute_result"
    }
   ],
   "source": [
    "pacific_data.head()"
   ]
  },
  {
   "cell_type": "code",
   "execution_count": 95,
   "metadata": {
    "scrolled": true
   },
   "outputs": [
    {
     "name": "stdout",
     "output_type": "stream",
     "text": [
      "<class 'pandas.core.frame.DataFrame'>\n",
      "RangeIndex: 26137 entries, 0 to 26136\n",
      "Data columns (total 22 columns):\n",
      "ID                  26137 non-null object\n",
      "Name                26137 non-null object\n",
      "Date                26137 non-null int64\n",
      "Time                26137 non-null int64\n",
      "Event               26137 non-null object\n",
      "Status              26137 non-null object\n",
      "Latitude            26137 non-null object\n",
      "Longitude           26137 non-null object\n",
      "Maximum Wind        26137 non-null int64\n",
      "Minimum Pressure    26137 non-null int64\n",
      "Low Wind NE         26137 non-null int64\n",
      "Low Wind SE         26137 non-null int64\n",
      "Low Wind SW         26137 non-null int64\n",
      "Low Wind NW         26137 non-null int64\n",
      "Moderate Wind NE    26137 non-null int64\n",
      "Moderate Wind SE    26137 non-null int64\n",
      "Moderate Wind SW    26137 non-null int64\n",
      "Moderate Wind NW    26137 non-null int64\n",
      "High Wind NE        26137 non-null int64\n",
      "High Wind SE        26137 non-null int64\n",
      "High Wind SW        26137 non-null int64\n",
      "High Wind NW        26137 non-null int64\n",
      "dtypes: int64(16), object(6)\n",
      "memory usage: 4.4+ MB\n"
     ]
    }
   ],
   "source": [
    "pacific_data.info()"
   ]
  },
  {
   "cell_type": "markdown",
   "metadata": {},
   "source": [
    "Conversion of Categorical Status Character variables to Discrete Numerics"
   ]
  },
  {
   "cell_type": "code",
   "execution_count": 96,
   "metadata": {},
   "outputs": [
    {
     "data": {
      "text/html": [
       "<div>\n",
       "<style scoped>\n",
       "    .dataframe tbody tr th:only-of-type {\n",
       "        vertical-align: middle;\n",
       "    }\n",
       "\n",
       "    .dataframe tbody tr th {\n",
       "        vertical-align: top;\n",
       "    }\n",
       "\n",
       "    .dataframe thead th {\n",
       "        text-align: right;\n",
       "    }\n",
       "</style>\n",
       "<table border=\"1\" class=\"dataframe\">\n",
       "  <thead>\n",
       "    <tr style=\"text-align: right;\">\n",
       "      <th></th>\n",
       "      <th>ID</th>\n",
       "      <th>Name</th>\n",
       "      <th>Date</th>\n",
       "      <th>Time</th>\n",
       "      <th>Event</th>\n",
       "      <th>Status</th>\n",
       "      <th>Latitude</th>\n",
       "      <th>Longitude</th>\n",
       "      <th>Maximum Wind</th>\n",
       "      <th>Minimum Pressure</th>\n",
       "      <th>...</th>\n",
       "      <th>Low Wind SW</th>\n",
       "      <th>Low Wind NW</th>\n",
       "      <th>Moderate Wind NE</th>\n",
       "      <th>Moderate Wind SE</th>\n",
       "      <th>Moderate Wind SW</th>\n",
       "      <th>Moderate Wind NW</th>\n",
       "      <th>High Wind NE</th>\n",
       "      <th>High Wind SE</th>\n",
       "      <th>High Wind SW</th>\n",
       "      <th>High Wind NW</th>\n",
       "    </tr>\n",
       "  </thead>\n",
       "  <tbody>\n",
       "    <tr>\n",
       "      <th>0</th>\n",
       "      <td>EP011949</td>\n",
       "      <td>UNNAMED</td>\n",
       "      <td>19490611</td>\n",
       "      <td>0</td>\n",
       "      <td></td>\n",
       "      <td>TS</td>\n",
       "      <td>20.2N</td>\n",
       "      <td>106.3W</td>\n",
       "      <td>45</td>\n",
       "      <td>-999</td>\n",
       "      <td>...</td>\n",
       "      <td>-999</td>\n",
       "      <td>-999</td>\n",
       "      <td>-999</td>\n",
       "      <td>-999</td>\n",
       "      <td>-999</td>\n",
       "      <td>-999</td>\n",
       "      <td>-999</td>\n",
       "      <td>-999</td>\n",
       "      <td>-999</td>\n",
       "      <td>-999</td>\n",
       "    </tr>\n",
       "    <tr>\n",
       "      <th>1</th>\n",
       "      <td>EP011949</td>\n",
       "      <td>UNNAMED</td>\n",
       "      <td>19490611</td>\n",
       "      <td>600</td>\n",
       "      <td></td>\n",
       "      <td>TS</td>\n",
       "      <td>20.2N</td>\n",
       "      <td>106.4W</td>\n",
       "      <td>45</td>\n",
       "      <td>-999</td>\n",
       "      <td>...</td>\n",
       "      <td>-999</td>\n",
       "      <td>-999</td>\n",
       "      <td>-999</td>\n",
       "      <td>-999</td>\n",
       "      <td>-999</td>\n",
       "      <td>-999</td>\n",
       "      <td>-999</td>\n",
       "      <td>-999</td>\n",
       "      <td>-999</td>\n",
       "      <td>-999</td>\n",
       "    </tr>\n",
       "    <tr>\n",
       "      <th>2</th>\n",
       "      <td>EP011949</td>\n",
       "      <td>UNNAMED</td>\n",
       "      <td>19490611</td>\n",
       "      <td>1200</td>\n",
       "      <td></td>\n",
       "      <td>TS</td>\n",
       "      <td>20.2N</td>\n",
       "      <td>106.7W</td>\n",
       "      <td>45</td>\n",
       "      <td>-999</td>\n",
       "      <td>...</td>\n",
       "      <td>-999</td>\n",
       "      <td>-999</td>\n",
       "      <td>-999</td>\n",
       "      <td>-999</td>\n",
       "      <td>-999</td>\n",
       "      <td>-999</td>\n",
       "      <td>-999</td>\n",
       "      <td>-999</td>\n",
       "      <td>-999</td>\n",
       "      <td>-999</td>\n",
       "    </tr>\n",
       "    <tr>\n",
       "      <th>3</th>\n",
       "      <td>EP011949</td>\n",
       "      <td>UNNAMED</td>\n",
       "      <td>19490611</td>\n",
       "      <td>1800</td>\n",
       "      <td></td>\n",
       "      <td>TS</td>\n",
       "      <td>20.3N</td>\n",
       "      <td>107.7W</td>\n",
       "      <td>45</td>\n",
       "      <td>-999</td>\n",
       "      <td>...</td>\n",
       "      <td>-999</td>\n",
       "      <td>-999</td>\n",
       "      <td>-999</td>\n",
       "      <td>-999</td>\n",
       "      <td>-999</td>\n",
       "      <td>-999</td>\n",
       "      <td>-999</td>\n",
       "      <td>-999</td>\n",
       "      <td>-999</td>\n",
       "      <td>-999</td>\n",
       "    </tr>\n",
       "    <tr>\n",
       "      <th>4</th>\n",
       "      <td>EP011949</td>\n",
       "      <td>UNNAMED</td>\n",
       "      <td>19490612</td>\n",
       "      <td>0</td>\n",
       "      <td></td>\n",
       "      <td>TS</td>\n",
       "      <td>20.4N</td>\n",
       "      <td>108.6W</td>\n",
       "      <td>45</td>\n",
       "      <td>-999</td>\n",
       "      <td>...</td>\n",
       "      <td>-999</td>\n",
       "      <td>-999</td>\n",
       "      <td>-999</td>\n",
       "      <td>-999</td>\n",
       "      <td>-999</td>\n",
       "      <td>-999</td>\n",
       "      <td>-999</td>\n",
       "      <td>-999</td>\n",
       "      <td>-999</td>\n",
       "      <td>-999</td>\n",
       "    </tr>\n",
       "  </tbody>\n",
       "</table>\n",
       "<p>5 rows × 22 columns</p>\n",
       "</div>"
      ],
      "text/plain": [
       "         ID                 Name      Date  Time Event Status Latitude  \\\n",
       "0  EP011949              UNNAMED  19490611     0           TS    20.2N   \n",
       "1  EP011949              UNNAMED  19490611   600           TS    20.2N   \n",
       "2  EP011949              UNNAMED  19490611  1200           TS    20.2N   \n",
       "3  EP011949              UNNAMED  19490611  1800           TS    20.3N   \n",
       "4  EP011949              UNNAMED  19490612     0           TS    20.4N   \n",
       "\n",
       "  Longitude  Maximum Wind  Minimum Pressure      ...       Low Wind SW  \\\n",
       "0    106.3W            45              -999      ...              -999   \n",
       "1    106.4W            45              -999      ...              -999   \n",
       "2    106.7W            45              -999      ...              -999   \n",
       "3    107.7W            45              -999      ...              -999   \n",
       "4    108.6W            45              -999      ...              -999   \n",
       "\n",
       "   Low Wind NW  Moderate Wind NE  Moderate Wind SE  Moderate Wind SW  \\\n",
       "0         -999              -999              -999              -999   \n",
       "1         -999              -999              -999              -999   \n",
       "2         -999              -999              -999              -999   \n",
       "3         -999              -999              -999              -999   \n",
       "4         -999              -999              -999              -999   \n",
       "\n",
       "   Moderate Wind NW  High Wind NE  High Wind SE  High Wind SW  High Wind NW  \n",
       "0              -999          -999          -999          -999          -999  \n",
       "1              -999          -999          -999          -999          -999  \n",
       "2              -999          -999          -999          -999          -999  \n",
       "3              -999          -999          -999          -999          -999  \n",
       "4              -999          -999          -999          -999          -999  \n",
       "\n",
       "[5 rows x 22 columns]"
      ]
     },
     "execution_count": 96,
     "metadata": {},
     "output_type": "execute_result"
    }
   ],
   "source": [
    "pacific_data.head()\n",
    "\n",
    "\n",
    "#### note that the Values for the column \"STATUS\" is characters"
   ]
  },
  {
   "cell_type": "code",
   "execution_count": 98,
   "metadata": {},
   "outputs": [],
   "source": [
    "### our Objective is to classify the storms into multiple classes.\n",
    "### we will need our values to be categorical to be converted to discrete numerics so that Python and Decision Tree algorithm \n",
    "### understands the categories\n",
    "\n",
    "### pandas .Categorical function is used to convert categorical characters to numerics\n",
    "pacific_data.Status = pd.Categorical(pacific_data.Status)\n",
    "pacific_data['Status'] = pacific_data.Status.cat.codes\n"
   ]
  },
  {
   "cell_type": "code",
   "execution_count": 31,
   "metadata": {},
   "outputs": [
    {
     "data": {
      "text/html": [
       "<div>\n",
       "<style scoped>\n",
       "    .dataframe tbody tr th:only-of-type {\n",
       "        vertical-align: middle;\n",
       "    }\n",
       "\n",
       "    .dataframe tbody tr th {\n",
       "        vertical-align: top;\n",
       "    }\n",
       "\n",
       "    .dataframe thead th {\n",
       "        text-align: right;\n",
       "    }\n",
       "</style>\n",
       "<table border=\"1\" class=\"dataframe\">\n",
       "  <thead>\n",
       "    <tr style=\"text-align: right;\">\n",
       "      <th></th>\n",
       "      <th>ID</th>\n",
       "      <th>Name</th>\n",
       "      <th>Date</th>\n",
       "      <th>Time</th>\n",
       "      <th>Event</th>\n",
       "      <th>Status</th>\n",
       "      <th>Latitude</th>\n",
       "      <th>Longitude</th>\n",
       "      <th>Maximum Wind</th>\n",
       "      <th>Minimum Pressure</th>\n",
       "      <th>...</th>\n",
       "      <th>Low Wind SW</th>\n",
       "      <th>Low Wind NW</th>\n",
       "      <th>Moderate Wind NE</th>\n",
       "      <th>Moderate Wind SE</th>\n",
       "      <th>Moderate Wind SW</th>\n",
       "      <th>Moderate Wind NW</th>\n",
       "      <th>High Wind NE</th>\n",
       "      <th>High Wind SE</th>\n",
       "      <th>High Wind SW</th>\n",
       "      <th>High Wind NW</th>\n",
       "    </tr>\n",
       "  </thead>\n",
       "  <tbody>\n",
       "    <tr>\n",
       "      <th>0</th>\n",
       "      <td>EP011949</td>\n",
       "      <td>UNNAMED</td>\n",
       "      <td>19490611</td>\n",
       "      <td>0</td>\n",
       "      <td></td>\n",
       "      <td>11</td>\n",
       "      <td>20.2N</td>\n",
       "      <td>106.3W</td>\n",
       "      <td>45</td>\n",
       "      <td>-999</td>\n",
       "      <td>...</td>\n",
       "      <td>-999</td>\n",
       "      <td>-999</td>\n",
       "      <td>-999</td>\n",
       "      <td>-999</td>\n",
       "      <td>-999</td>\n",
       "      <td>-999</td>\n",
       "      <td>-999</td>\n",
       "      <td>-999</td>\n",
       "      <td>-999</td>\n",
       "      <td>-999</td>\n",
       "    </tr>\n",
       "    <tr>\n",
       "      <th>1</th>\n",
       "      <td>EP011949</td>\n",
       "      <td>UNNAMED</td>\n",
       "      <td>19490611</td>\n",
       "      <td>600</td>\n",
       "      <td></td>\n",
       "      <td>11</td>\n",
       "      <td>20.2N</td>\n",
       "      <td>106.4W</td>\n",
       "      <td>45</td>\n",
       "      <td>-999</td>\n",
       "      <td>...</td>\n",
       "      <td>-999</td>\n",
       "      <td>-999</td>\n",
       "      <td>-999</td>\n",
       "      <td>-999</td>\n",
       "      <td>-999</td>\n",
       "      <td>-999</td>\n",
       "      <td>-999</td>\n",
       "      <td>-999</td>\n",
       "      <td>-999</td>\n",
       "      <td>-999</td>\n",
       "    </tr>\n",
       "    <tr>\n",
       "      <th>2</th>\n",
       "      <td>EP011949</td>\n",
       "      <td>UNNAMED</td>\n",
       "      <td>19490611</td>\n",
       "      <td>1200</td>\n",
       "      <td></td>\n",
       "      <td>11</td>\n",
       "      <td>20.2N</td>\n",
       "      <td>106.7W</td>\n",
       "      <td>45</td>\n",
       "      <td>-999</td>\n",
       "      <td>...</td>\n",
       "      <td>-999</td>\n",
       "      <td>-999</td>\n",
       "      <td>-999</td>\n",
       "      <td>-999</td>\n",
       "      <td>-999</td>\n",
       "      <td>-999</td>\n",
       "      <td>-999</td>\n",
       "      <td>-999</td>\n",
       "      <td>-999</td>\n",
       "      <td>-999</td>\n",
       "    </tr>\n",
       "    <tr>\n",
       "      <th>3</th>\n",
       "      <td>EP011949</td>\n",
       "      <td>UNNAMED</td>\n",
       "      <td>19490611</td>\n",
       "      <td>1800</td>\n",
       "      <td></td>\n",
       "      <td>11</td>\n",
       "      <td>20.3N</td>\n",
       "      <td>107.7W</td>\n",
       "      <td>45</td>\n",
       "      <td>-999</td>\n",
       "      <td>...</td>\n",
       "      <td>-999</td>\n",
       "      <td>-999</td>\n",
       "      <td>-999</td>\n",
       "      <td>-999</td>\n",
       "      <td>-999</td>\n",
       "      <td>-999</td>\n",
       "      <td>-999</td>\n",
       "      <td>-999</td>\n",
       "      <td>-999</td>\n",
       "      <td>-999</td>\n",
       "    </tr>\n",
       "    <tr>\n",
       "      <th>4</th>\n",
       "      <td>EP011949</td>\n",
       "      <td>UNNAMED</td>\n",
       "      <td>19490612</td>\n",
       "      <td>0</td>\n",
       "      <td></td>\n",
       "      <td>11</td>\n",
       "      <td>20.4N</td>\n",
       "      <td>108.6W</td>\n",
       "      <td>45</td>\n",
       "      <td>-999</td>\n",
       "      <td>...</td>\n",
       "      <td>-999</td>\n",
       "      <td>-999</td>\n",
       "      <td>-999</td>\n",
       "      <td>-999</td>\n",
       "      <td>-999</td>\n",
       "      <td>-999</td>\n",
       "      <td>-999</td>\n",
       "      <td>-999</td>\n",
       "      <td>-999</td>\n",
       "      <td>-999</td>\n",
       "    </tr>\n",
       "  </tbody>\n",
       "</table>\n",
       "<p>5 rows × 22 columns</p>\n",
       "</div>"
      ],
      "text/plain": [
       "         ID                 Name      Date  Time Event  Status Latitude  \\\n",
       "0  EP011949              UNNAMED  19490611     0            11    20.2N   \n",
       "1  EP011949              UNNAMED  19490611   600            11    20.2N   \n",
       "2  EP011949              UNNAMED  19490611  1200            11    20.2N   \n",
       "3  EP011949              UNNAMED  19490611  1800            11    20.3N   \n",
       "4  EP011949              UNNAMED  19490612     0            11    20.4N   \n",
       "\n",
       "  Longitude  Maximum Wind  Minimum Pressure      ...       Low Wind SW  \\\n",
       "0    106.3W            45              -999      ...              -999   \n",
       "1    106.4W            45              -999      ...              -999   \n",
       "2    106.7W            45              -999      ...              -999   \n",
       "3    107.7W            45              -999      ...              -999   \n",
       "4    108.6W            45              -999      ...              -999   \n",
       "\n",
       "   Low Wind NW  Moderate Wind NE  Moderate Wind SE  Moderate Wind SW  \\\n",
       "0         -999              -999              -999              -999   \n",
       "1         -999              -999              -999              -999   \n",
       "2         -999              -999              -999              -999   \n",
       "3         -999              -999              -999              -999   \n",
       "4         -999              -999              -999              -999   \n",
       "\n",
       "   Moderate Wind NW  High Wind NE  High Wind SE  High Wind SW  High Wind NW  \n",
       "0              -999          -999          -999          -999          -999  \n",
       "1              -999          -999          -999          -999          -999  \n",
       "2              -999          -999          -999          -999          -999  \n",
       "3              -999          -999          -999          -999          -999  \n",
       "4              -999          -999          -999          -999          -999  \n",
       "\n",
       "[5 rows x 22 columns]"
      ]
     },
     "execution_count": 31,
     "metadata": {},
     "output_type": "execute_result"
    }
   ],
   "source": [
    "pacific_data.head()\n",
    "\n",
    "### note that the status variable has been covented by pandas .Categorical function"
   ]
  },
  {
   "cell_type": "markdown",
   "metadata": {},
   "source": [
    "Data Exploration through Visualization"
   ]
  },
  {
   "cell_type": "code",
   "execution_count": 99,
   "metadata": {},
   "outputs": [
    {
     "data": {
      "text/plain": [
       "<matplotlib.axes._subplots.AxesSubplot at 0x212d26990b8>"
      ]
     },
     "execution_count": 99,
     "metadata": {},
     "output_type": "execute_result"
    },
    {
     "data": {
      "image/png": "[encoded data removed]",
      "text/plain": [
       "<matplotlib.figure.Figure at 0x212d2972fd0>"
      ]
     },
     "metadata": {},
     "output_type": "display_data"
    }
   ],
   "source": [
    "# lets get the frequency of different typhoons\n",
    "sns.countplot(pacific_data['Status'],label=\"Count\")\n",
    "\n",
    "\n",
    "### Note that "
   ]
  },
  {
   "cell_type": "markdown",
   "metadata": {},
   "source": [
    "DATA WRANGLING\n",
    "1. Remove insignificant columns"
   ]
  },
  {
   "cell_type": "code",
   "execution_count": 33,
   "metadata": {},
   "outputs": [
    {
     "name": "stderr",
     "output_type": "stream",
     "text": [
      "D:\\Anaconda3\\lib\\site-packages\\ipykernel_launcher.py:9: SettingWithCopyWarning: \n",
      "A value is trying to be set on a copy of a slice from a DataFrame\n",
      "\n",
      "See the caveats in the documentation: http://pandas.pydata.org/pandas-docs/stable/indexing.html#indexing-view-versus-copy\n",
      "  if __name__ == '__main__':\n",
      "D:\\Anaconda3\\lib\\site-packages\\ipykernel_launcher.py:10: SettingWithCopyWarning: \n",
      "A value is trying to be set on a copy of a slice from a DataFrame\n",
      "\n",
      "See the caveats in the documentation: http://pandas.pydata.org/pandas-docs/stable/indexing.html#indexing-view-versus-copy\n",
      "  # Remove the CWD from sys.path while we load stuff.\n",
      "D:\\Anaconda3\\lib\\site-packages\\ipykernel_launcher.py:11: SettingWithCopyWarning: \n",
      "A value is trying to be set on a copy of a slice from a DataFrame\n",
      "\n",
      "See the caveats in the documentation: http://pandas.pydata.org/pandas-docs/stable/indexing.html#indexing-view-versus-copy\n",
      "  # This is added back by InteractiveShellApp.init_path()\n",
      "D:\\Anaconda3\\lib\\site-packages\\ipykernel_launcher.py:12: SettingWithCopyWarning: \n",
      "A value is trying to be set on a copy of a slice from a DataFrame\n",
      "\n",
      "See the caveats in the documentation: http://pandas.pydata.org/pandas-docs/stable/indexing.html#indexing-view-versus-copy\n",
      "  if sys.path[0] == '':\n",
      "D:\\Anaconda3\\lib\\site-packages\\ipykernel_launcher.py:13: SettingWithCopyWarning: \n",
      "A value is trying to be set on a copy of a slice from a DataFrame\n",
      "\n",
      "See the caveats in the documentation: http://pandas.pydata.org/pandas-docs/stable/indexing.html#indexing-view-versus-copy\n",
      "  del sys.path[0]\n",
      "D:\\Anaconda3\\lib\\site-packages\\ipykernel_launcher.py:14: SettingWithCopyWarning: \n",
      "A value is trying to be set on a copy of a slice from a DataFrame\n",
      "\n",
      "See the caveats in the documentation: http://pandas.pydata.org/pandas-docs/stable/indexing.html#indexing-view-versus-copy\n",
      "  \n",
      "D:\\Anaconda3\\lib\\site-packages\\ipykernel_launcher.py:15: SettingWithCopyWarning: \n",
      "A value is trying to be set on a copy of a slice from a DataFrame\n",
      "\n",
      "See the caveats in the documentation: http://pandas.pydata.org/pandas-docs/stable/indexing.html#indexing-view-versus-copy\n",
      "  from ipykernel import kernelapp as app\n",
      "D:\\Anaconda3\\lib\\site-packages\\ipykernel_launcher.py:16: SettingWithCopyWarning: \n",
      "A value is trying to be set on a copy of a slice from a DataFrame\n",
      "\n",
      "See the caveats in the documentation: http://pandas.pydata.org/pandas-docs/stable/indexing.html#indexing-view-versus-copy\n",
      "  app.launch_new_instance()\n"
     ]
    }
   ],
   "source": [
    "import random\n",
    "\n",
    "random.seed(2)\n",
    "\n",
    "### copy the data frame to another data frame called pred_columns\n",
    "pred_columns = pacific_data[:]\n",
    "\n",
    "### drop insignificant columns\n",
    "pred_columns.drop(['Status'],axis=1,inplace=True)\n",
    "pred_columns.drop(['Event'],axis=1,inplace=True)\n",
    "pred_columns.drop(['Latitude'],axis=1,inplace=True)\n",
    "pred_columns.drop(['Longitude'],axis=1,inplace=True)\n",
    "pred_columns.drop(['ID'],axis=1,inplace=True)\n",
    "pred_columns.drop(['Name'],axis=1,inplace=True)\n",
    "pred_columns.drop(['Date'],axis=1,inplace=True)\n",
    "pred_columns.drop(['Time'],axis=1,inplace=True)\n",
    "\n"
   ]
  },
  {
   "cell_type": "code",
   "execution_count": 101,
   "metadata": {},
   "outputs": [
    {
     "data": {
      "text/plain": [
       "pandas.core.frame.DataFrame"
      ]
     },
     "execution_count": 101,
     "metadata": {},
     "output_type": "execute_result"
    }
   ],
   "source": [
    "type(pred_columns)"
   ]
  },
  {
   "cell_type": "code",
   "execution_count": 100,
   "metadata": {},
   "outputs": [
    {
     "name": "stdout",
     "output_type": "stream",
     "text": [
      "['Maximum Wind', 'Minimum Pressure', 'Low Wind NE', 'Low Wind SE', 'Low Wind SW', 'Low Wind NW', 'Moderate Wind NE', 'Moderate Wind SE', 'Moderate Wind SW', 'Moderate Wind NW', 'High Wind NE', 'High Wind SE', 'High Wind SW', 'High Wind NW']\n"
     ]
    }
   ],
   "source": [
    "# move the important columns to a new variable\n",
    "#these are the variables which will use for prediction\n",
    "\n",
    "prediction_var = pred_columns.columns\n",
    "print(list(prediction_var))"
   ]
  },
  {
   "cell_type": "code",
   "execution_count": 102,
   "metadata": {},
   "outputs": [
    {
     "data": {
      "text/plain": [
       "pandas.core.indexes.base.Index"
      ]
     },
     "execution_count": 102,
     "metadata": {},
     "output_type": "execute_result"
    }
   ],
   "source": [
    "type(prediction_var)"
   ]
  },
  {
   "cell_type": "code",
   "execution_count": null,
   "metadata": {},
   "outputs": [],
   "source": []
  },
  {
   "cell_type": "code",
   "execution_count": 103,
   "metadata": {},
   "outputs": [],
   "source": [
    "#now split our data into train and test. 30% test size\n",
    "from sklearn.model_selection import train_test_split\n",
    "\n",
    "train, test = train_test_split(pacific_data, test_size = 0.3)"
   ]
  },
  {
   "cell_type": "code",
   "execution_count": 104,
   "metadata": {},
   "outputs": [
    {
     "name": "stdout",
     "output_type": "stream",
     "text": [
      "(18295, 22)\n",
      "(7842, 22)\n"
     ]
    }
   ],
   "source": [
    "### check dimensions of train and test dataset\n",
    "print(train.shape)\n",
    "print(test.shape)"
   ]
  },
  {
   "cell_type": "code",
   "execution_count": 105,
   "metadata": {},
   "outputs": [],
   "source": [
    "#Create a training data input on independent variables which we created earlier\n",
    "X_train = train[prediction_var]\n",
    "\n",
    "### create a train data input on dependent variable \n",
    "y_train= train['Status']\n",
    "\n"
   ]
  },
  {
   "cell_type": "code",
   "execution_count": 106,
   "metadata": {},
   "outputs": [
    {
     "name": "stdout",
     "output_type": "stream",
     "text": [
      "['ID', 'Name', 'Date', 'Time', 'Event', 'Status', 'Latitude', 'Longitude', 'Maximum Wind', 'Minimum Pressure', 'Low Wind NE', 'Low Wind SE', 'Low Wind SW', 'Low Wind NW', 'Moderate Wind NE', 'Moderate Wind SE', 'Moderate Wind SW', 'Moderate Wind NW', 'High Wind NE', 'High Wind SE', 'High Wind SW', 'High Wind NW']\n"
     ]
    }
   ],
   "source": [
    "### look at the columns of our training dataset\n",
    "\n",
    "print(list(train.columns))"
   ]
  },
  {
   "cell_type": "code",
   "execution_count": 107,
   "metadata": {},
   "outputs": [],
   "source": [
    "#Create a Test data input on independent variables which we created earlier\n",
    "X_test= test[prediction_var]\n",
    "#\n",
    "y_test =test['Status']  "
   ]
  },
  {
   "cell_type": "code",
   "execution_count": 110,
   "metadata": {},
   "outputs": [],
   "source": [
    "### fit the DECISION TREE CLASSIFIER\n",
    "from sklearn.tree import DecisionTreeClassifier"
   ]
  },
  {
   "cell_type": "code",
   "execution_count": 111,
   "metadata": {},
   "outputs": [
    {
     "data": {
      "text/plain": [
       "DecisionTreeClassifier(class_weight=None, criterion='gini', max_depth=None,\n",
       "            max_features=None, max_leaf_nodes=None,\n",
       "            min_impurity_decrease=0.0, min_impurity_split=None,\n",
       "            min_samples_leaf=1, min_samples_split=2,\n",
       "            min_weight_fraction_leaf=0.0, presort=False, random_state=None,\n",
       "            splitter='best')"
      ]
     },
     "execution_count": 111,
     "metadata": {},
     "output_type": "execute_result"
    }
   ],
   "source": [
    "#Decision Tree\n",
    "dt_model = DecisionTreeClassifier()\n",
    "\n",
    "# now fit our model for traiing data\n",
    "dt_model.fit(X_train,y_train)"
   ]
  },
  {
   "cell_type": "markdown",
   "metadata": {},
   "source": [
    "PREDICTION AND EVALUATION"
   ]
  },
  {
   "cell_type": "code",
   "execution_count": 112,
   "metadata": {},
   "outputs": [],
   "source": [
    "predictions = dt_model.predict(X_test)"
   ]
  },
  {
   "cell_type": "code",
   "execution_count": 114,
   "metadata": {},
   "outputs": [
    {
     "name": "stdout",
     "output_type": "stream",
     "text": [
      "         0\n",
      "Status    \n",
      "10      10\n",
      "5        5\n",
      "11      11\n",
      "10      10\n",
      "11      11\n",
      "11      11\n",
      "11      11\n",
      "3        3\n",
      "10      10\n",
      "11      11\n",
      "10      10\n",
      "11      11\n",
      "5        5\n",
      "10      10\n",
      "11      11\n",
      "11      11\n",
      "11      11\n",
      "10      10\n",
      "3        3\n",
      "5        5\n",
      "3        3\n",
      "10      10\n",
      "3        3\n",
      "11      11\n",
      "5        5\n",
      "3        3\n",
      "3        3\n",
      "10      10\n",
      "11      11\n",
      "1       11\n",
      "...     ..\n",
      "10      10\n",
      "3        3\n",
      "11      11\n",
      "5        5\n",
      "10      10\n",
      "10      10\n",
      "10      10\n",
      "5        5\n",
      "10      10\n",
      "11      11\n",
      "11       5\n",
      "3        3\n",
      "11      11\n",
      "11      11\n",
      "11      11\n",
      "11      11\n",
      "10      10\n",
      "10      10\n",
      "3        3\n",
      "3        3\n",
      "3        3\n",
      "10      10\n",
      "11      11\n",
      "11      11\n",
      "11      11\n",
      "11      11\n",
      "11      11\n",
      "11      11\n",
      "3        3\n",
      "11      11\n",
      "\n",
      "[7842 rows x 1 columns]\n"
     ]
    }
   ],
   "source": [
    "### comparing predicted vs actual values\n",
    "from sklearn.metrics import accuracy_score\n",
    "\n",
    "#\n",
    "df = pd.DataFrame(predictions, y_test)\n",
    "print(df)"
   ]
  },
  {
   "cell_type": "code",
   "execution_count": 115,
   "metadata": {},
   "outputs": [
    {
     "data": {
      "text/plain": [
       "0.9538383065544503"
      ]
     },
     "execution_count": 115,
     "metadata": {},
     "output_type": "execute_result"
    }
   ],
   "source": [
    "### to check accuracy\n",
    "dt_model_metrics = accuracy_score(predictions,y_test)\n",
    "\n",
    "#\n",
    "dt_model_metrics \n",
    "\n",
    "### Decision Tree based model gives 96% accuracy"
   ]
  },
  {
   "cell_type": "code",
   "execution_count": null,
   "metadata": {},
   "outputs": [],
   "source": []
  },
  {
   "cell_type": "code",
   "execution_count": 72,
   "metadata": {},
   "outputs": [],
   "source": [
    "from sklearn.metrics import classification_report,confusion_matrix"
   ]
  },
  {
   "cell_type": "code",
   "execution_count": 59,
   "metadata": {},
   "outputs": [],
   "source": []
  },
  {
   "cell_type": "code",
   "execution_count": 60,
   "metadata": {},
   "outputs": [
    {
     "name": "stdout",
     "output_type": "stream",
     "text": [
      "             precision    recall  f1-score   support\n",
      "\n",
      "          0       0.33      0.02      0.03        65\n",
      "          1       0.00      0.00      0.00        40\n",
      "          2       0.67      0.19      0.30        31\n",
      "          3       1.00      1.00      1.00      2017\n",
      "          5       0.74      0.82      0.78       541\n",
      "          6       0.00      0.00      0.00         3\n",
      "          7       0.00      0.00      0.00         1\n",
      "          8       0.00      0.00      0.00         2\n",
      "          9       1.00      1.00      1.00         1\n",
      "         10       0.94      0.96      0.95      2125\n",
      "         11       0.99      1.00      0.99      3016\n",
      "\n",
      "avg / total       0.95      0.96      0.95      7842\n",
      "\n"
     ]
    },
    {
     "name": "stderr",
     "output_type": "stream",
     "text": [
      "D:\\Anaconda3\\lib\\site-packages\\sklearn\\metrics\\classification.py:1135: UndefinedMetricWarning: Precision and F-score are ill-defined and being set to 0.0 in labels with no predicted samples.\n",
      "  'precision', 'predicted', average, warn_for)\n"
     ]
    }
   ],
   "source": [
    "print(classification_report(y_test,predictions))"
   ]
  },
  {
   "cell_type": "code",
   "execution_count": 62,
   "metadata": {},
   "outputs": [
    {
     "name": "stdout",
     "output_type": "stream",
     "text": [
      "[[   1    0    0    0   59    0    0    0    0    5    0]\n",
      " [   0    0    0    0    0    0    0    0    0   33    7]\n",
      " [   0    0    6    1    2    0    0    0    0   16    6]\n",
      " [   0    0    0 2017    0    0    0    0    0    0    0]\n",
      " [   2    0    0    0  444    0    0    0    0   83   12]\n",
      " [   0    0    0    0    0    0    0    0    0    1    2]\n",
      " [   0    0    0    0    1    0    0    0    0    0    0]\n",
      " [   0    0    0    0    0    0    0    0    0    0    2]\n",
      " [   0    0    0    0    0    0    0    0    1    0    0]\n",
      " [   0    0    3    0   83    0    0    0    0 2039    0]\n",
      " [   0    0    0    0    7    0    0    5    0    0 3004]]\n"
     ]
    }
   ],
   "source": [
    "print(confusion_matrix(y_test,predictions))"
   ]
  },
  {
   "cell_type": "code",
   "execution_count": null,
   "metadata": {},
   "outputs": [],
   "source": []
  },
  {
   "cell_type": "code",
   "execution_count": null,
   "metadata": {},
   "outputs": [],
   "source": []
  },
  {
   "cell_type": "code",
   "execution_count": null,
   "metadata": {},
   "outputs": [],
   "source": [
    "#RandomForest classifier\n",
    "\n",
    "\n",
    "\n"
   ]
  },
  {
   "cell_type": "code",
   "execution_count": 121,
   "metadata": {},
   "outputs": [],
   "source": [
    "# a simple random forest model\n",
    "### n_estimators - no of trees.\n",
    "rf_model=RandomForestClassifier(n_estimators=500)\n",
    "\n"
   ]
  },
  {
   "cell_type": "code",
   "execution_count": 122,
   "metadata": {},
   "outputs": [
    {
     "data": {
      "text/plain": [
       "RandomForestClassifier(bootstrap=True, class_weight=None, criterion='gini',\n",
       "            max_depth=None, max_features='auto', max_leaf_nodes=None,\n",
       "            min_impurity_decrease=0.0, min_impurity_split=None,\n",
       "            min_samples_leaf=1, min_samples_split=2,\n",
       "            min_weight_fraction_leaf=0.0, n_estimators=500, n_jobs=1,\n",
       "            oob_score=False, random_state=None, verbose=0,\n",
       "            warm_start=False)"
      ]
     },
     "execution_count": 122,
     "metadata": {},
     "output_type": "execute_result"
    }
   ],
   "source": [
    "# now fit our model for traiing data\n",
    "rf_model.fit(X_train,y_train)"
   ]
  },
  {
   "cell_type": "code",
   "execution_count": null,
   "metadata": {},
   "outputs": [],
   "source": []
  },
  {
   "cell_type": "code",
   "execution_count": null,
   "metadata": {},
   "outputs": [],
   "source": []
  },
  {
   "cell_type": "code",
   "execution_count": 123,
   "metadata": {},
   "outputs": [],
   "source": [
    "rf_prediction=rf_model.predict(X_test)# predict for the test data"
   ]
  },
  {
   "cell_type": "code",
   "execution_count": 124,
   "metadata": {},
   "outputs": [
    {
     "name": "stdout",
     "output_type": "stream",
     "text": [
      "0.9554960469268043\n"
     ]
    }
   ],
   "source": [
    "#prediction will contain the predicted value by our model predicted values of diagnosis column for test inputs\n",
    "print(accuracy_score(rf_prediction,y_test)) # to check the accuracy\n",
    "\n",
    "# here we will use accuracy measurement between our predicted value and our test output values"
   ]
  },
  {
   "cell_type": "code",
   "execution_count": null,
   "metadata": {},
   "outputs": [],
   "source": []
  },
  {
   "cell_type": "code",
   "execution_count": null,
   "metadata": {},
   "outputs": [],
   "source": []
  },
  {
   "cell_type": "code",
   "execution_count": null,
   "metadata": {},
   "outputs": [],
   "source": []
  },
  {
   "cell_type": "code",
   "execution_count": null,
   "metadata": {},
   "outputs": [],
   "source": []
  },
  {
   "cell_type": "code",
   "execution_count": null,
   "metadata": {},
   "outputs": [],
   "source": []
  },
  {
   "cell_type": "markdown",
   "metadata": {},
   "source": [
    "Tree Visualization\n",
    "Scikit learn actually has some built-in visualization capabilities for decision trees, \n",
    "you won't use this often and it requires you to install the pydot library, \n",
    "but here is an example of what it looks like and the code to execute this:"
   ]
  },
  {
   "cell_type": "markdown",
   "metadata": {},
   "source": [
    "from IPython.display import Image  \n",
    "from sklearn.externals.six import StringIO  \n",
    "from sklearn.tree import export_graphviz\n",
    "import pydot\n",
    "\n",
    "\n",
    "features =  list(pred_columns.columns[:])\n",
    "features"
   ]
  },
  {
   "cell_type": "code",
   "execution_count": 80,
   "metadata": {},
   "outputs": [
    {
     "ename": "NameError",
     "evalue": "name 'pydot' is not defined",
     "output_type": "error",
     "traceback": [
      "\u001b[1;31m---------------------------------------------------------------------------\u001b[0m",
      "\u001b[1;31mNameError\u001b[0m                                 Traceback (most recent call last)",
      "\u001b[1;32m<ipython-input-80-f690e66be767>\u001b[0m in \u001b[0;36m<module>\u001b[1;34m()\u001b[0m\n\u001b[0;32m      2\u001b[0m \u001b[0mexport_graphviz\u001b[0m\u001b[1;33m(\u001b[0m\u001b[0mdt_model\u001b[0m\u001b[1;33m,\u001b[0m \u001b[0mout_file\u001b[0m\u001b[1;33m=\u001b[0m\u001b[0mdot_data\u001b[0m\u001b[1;33m,\u001b[0m\u001b[0mfeature_names\u001b[0m\u001b[1;33m=\u001b[0m\u001b[0mfeatures\u001b[0m\u001b[1;33m,\u001b[0m\u001b[0mfilled\u001b[0m\u001b[1;33m=\u001b[0m\u001b[1;32mTrue\u001b[0m\u001b[1;33m,\u001b[0m\u001b[0mrounded\u001b[0m\u001b[1;33m=\u001b[0m\u001b[1;32mTrue\u001b[0m\u001b[1;33m)\u001b[0m\u001b[1;33m\u001b[0m\u001b[0m\n\u001b[0;32m      3\u001b[0m \u001b[1;33m\u001b[0m\u001b[0m\n\u001b[1;32m----> 4\u001b[1;33m \u001b[0mgraph\u001b[0m \u001b[1;33m=\u001b[0m \u001b[0mpydot\u001b[0m\u001b[1;33m.\u001b[0m\u001b[0mgraph_from_dot_data\u001b[0m\u001b[1;33m(\u001b[0m\u001b[0mdot_data\u001b[0m\u001b[1;33m.\u001b[0m\u001b[0mgetvalue\u001b[0m\u001b[1;33m(\u001b[0m\u001b[1;33m)\u001b[0m\u001b[1;33m)\u001b[0m\u001b[1;33m\u001b[0m\u001b[0m\n\u001b[0m\u001b[0;32m      5\u001b[0m \u001b[0mImage\u001b[0m\u001b[1;33m(\u001b[0m\u001b[0mgraph\u001b[0m\u001b[1;33m[\u001b[0m\u001b[1;36m0\u001b[0m\u001b[1;33m]\u001b[0m\u001b[1;33m.\u001b[0m\u001b[0mcreate_png\u001b[0m\u001b[1;33m(\u001b[0m\u001b[1;33m)\u001b[0m\u001b[1;33m)\u001b[0m\u001b[1;33m\u001b[0m\u001b[0m\n",
      "\u001b[1;31mNameError\u001b[0m: name 'pydot' is not defined"
     ]
    }
   ],
   "source": [
    "dot_data = StringIO()  \n",
    "export_graphviz(dt_model, out_file=dot_data,feature_names=features,filled=True,rounded=True)\n",
    "\n",
    "graph = pydot.graph_from_dot_data(dot_data.getvalue())  \n",
    "Image(graph[0].create_png())  "
   ]
  },
  {
   "cell_type": "code",
   "execution_count": null,
   "metadata": {},
   "outputs": [],
   "source": []
  },
  {
   "cell_type": "code",
   "execution_count": null,
   "metadata": {},
   "outputs": [],
   "source": []
  },
  {
   "cell_type": "code",
   "execution_count": null,
   "metadata": {},
   "outputs": [],
   "source": []
  },
  {
   "cell_type": "code",
   "execution_count": null,
   "metadata": {},
   "outputs": [],
   "source": []
  }
 ],
 "metadata": {
  "kernelspec": {
   "display_name": "Python 3",
   "language": "python",
   "name": "python3"
  },
  "language_info": {
   "codemirror_mode": {
    "name": "ipython",
    "version": 3
   },
   "file_extension": ".py",
   "mimetype": "text/x-python",
   "name": "python",
   "nbconvert_exporter": "python",
   "pygments_lexer": "ipython3",
   "version": "3.6.4"
  }
 },
 "nbformat": 4,
 "nbformat_minor": 2
}
