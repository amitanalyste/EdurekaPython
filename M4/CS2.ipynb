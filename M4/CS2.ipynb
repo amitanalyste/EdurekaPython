{
 "cells": [
  {
   "cell_type": "code",
   "execution_count": 1,
   "metadata": {},
   "outputs": [
    {
     "name": "stdout",
     "output_type": "stream",
     "text": [
      "/Users/amit/Edureka/DS/Python/M4\r\n"
     ]
    }
   ],
   "source": [
    "!pwd"
   ]
  },
  {
   "cell_type": "code",
   "execution_count": 2,
   "metadata": {},
   "outputs": [
    {
     "name": "stdout",
     "output_type": "stream",
     "text": [
      "\u001b[1m\u001b[32mBigMartSalesData.csv\u001b[m\u001b[m*  \u001b[1m\u001b[32mHurricanes.csv\u001b[m\u001b[m*        \u001b[1m\u001b[32mScoreFinal.csv\u001b[m\u001b[m*\r\n",
      "\u001b[1m\u001b[32mCars2015.csv\u001b[m\u001b[m*          \u001b[1m\u001b[32mMathScoreTerm1.csv\u001b[m\u001b[m*    \u001b[1m\u001b[32mmiddle_tn_schools.csv\u001b[m\u001b[m*\r\n",
      "\u001b[1m\u001b[32mCityTemps.csv\u001b[m\u001b[m*         \u001b[1m\u001b[32mPhysicsScoreTerm1.csv\u001b[m\u001b[m* \u001b[1m\u001b[32msample-salesv2.csv\u001b[m\u001b[m*\r\n",
      "\u001b[1m\u001b[32mDSScoreTerm1.csv\u001b[m\u001b[m*      \u001b[1m\u001b[32mSalaryGender.csv\u001b[m\u001b[m*\r\n"
     ]
    }
   ],
   "source": [
    "ls 574_m4_datasets_v3"
   ]
  },
  {
   "cell_type": "code",
   "execution_count": 3,
   "metadata": {
    "collapsed": true
   },
   "outputs": [],
   "source": [
    "# Loading dependancy\n",
    "import numpy as np\n",
    "import pandas as pd\n",
    "import matplotlib.pyplot as plt\n",
    "%matplotlib inline"
   ]
  },
  {
   "cell_type": "code",
   "execution_count": 4,
   "metadata": {
    "collapsed": true
   },
   "outputs": [],
   "source": [
    "# Loading data through pandas\n",
    "math = pd.read_csv('574_m4_datasets_v3/MathScoreTerm1.csv')\n",
    "physics = pd.read_csv('574_m4_datasets_v3/PhysicsScoreTerm1.csv')\n",
    "ds = pd.read_csv('574_m4_datasets_v3/DSScoreTerm1.csv')"
   ]
  },
  {
   "cell_type": "code",
   "execution_count": 5,
   "metadata": {},
   "outputs": [
    {
     "data": {
      "text/plain": [
       "((599, 7), (599, 7), (599, 7))"
      ]
     },
     "execution_count": 5,
     "metadata": {},
     "output_type": "execute_result"
    }
   ],
   "source": [
    "# Seems all df has same set of columns and 599 records!\n",
    "math.shape, physics.shape, ds.shape"
   ]
  },
  {
   "cell_type": "code",
   "execution_count": 6,
   "metadata": {
    "collapsed": true
   },
   "outputs": [],
   "source": [
    "def removeConfidentialCols(df, columnToRemove = ['Name', 'Ethinicity']):\n",
    "    '''Function to return dataframe after removing the columns from dataframe that are not desired. \n",
    "    Input: dataframe and list of columns that doesn't need in dataframe.\n",
    "    '''\n",
    "    return df[[column for column in df.columns if column not in columnToRemove]]"
   ]
  },
  {
   "cell_type": "code",
   "execution_count": 7,
   "metadata": {
    "collapsed": true
   },
   "outputs": [],
   "source": [
    "# Removed confidential columns from dataframe\n",
    "math_df, physics_df, ds_df = map(removeConfidentialCols, (math, physics, ds))"
   ]
  },
  {
   "cell_type": "code",
   "execution_count": 8,
   "metadata": {},
   "outputs": [
    {
     "name": "stdout",
     "output_type": "stream",
     "text": [
      "====Math Info====\n",
      "<class 'pandas.core.frame.DataFrame'>\n",
      "RangeIndex: 599 entries, 0 to 598\n",
      "Data columns (total 5 columns):\n",
      "Score      596 non-null float64\n",
      "Age        599 non-null int64\n",
      "Subject    599 non-null object\n",
      "Sex        599 non-null object\n",
      "ID         599 non-null int64\n",
      "dtypes: float64(1), int64(2), object(2)\n",
      "memory usage: 23.5+ KB\n",
      "None\n",
      "====Physics Info====\n",
      "<class 'pandas.core.frame.DataFrame'>\n",
      "RangeIndex: 599 entries, 0 to 598\n",
      "Data columns (total 5 columns):\n",
      "Score      593 non-null float64\n",
      "Age        599 non-null int64\n",
      "Subject    599 non-null object\n",
      "Sex        599 non-null object\n",
      "ID         599 non-null int64\n",
      "dtypes: float64(1), int64(2), object(2)\n",
      "memory usage: 23.5+ KB\n",
      "None\n",
      "=====Data Structure Info=====\n",
      "<class 'pandas.core.frame.DataFrame'>\n",
      "RangeIndex: 599 entries, 0 to 598\n",
      "Data columns (total 5 columns):\n",
      "Score      591 non-null float64\n",
      "Age        599 non-null int64\n",
      "Subject    599 non-null object\n",
      "Sex        599 non-null object\n",
      "ID         599 non-null int64\n",
      "dtypes: float64(1), int64(2), object(2)\n",
      "memory usage: 23.5+ KB\n",
      "None\n"
     ]
    }
   ],
   "source": [
    "print(\"====Math Info====\")\n",
    "print(math_df.info())\n",
    "print(\"====Physics Info====\")\n",
    "print(physics_df.info())\n",
    "print(\"=====Data Structure Info=====\")\n",
    "print(ds_df.info())"
   ]
  },
  {
   "cell_type": "code",
   "execution_count": 9,
   "metadata": {},
   "outputs": [
    {
     "name": "stderr",
     "output_type": "stream",
     "text": [
      "/Users/amit/anaconda3/lib/python3.6/site-packages/ipykernel_launcher.py:2: SettingWithCopyWarning: \n",
      "A value is trying to be set on a copy of a slice from a DataFrame.\n",
      "Try using .loc[row_indexer,col_indexer] = value instead\n",
      "\n",
      "See the caveats in the documentation: http://pandas.pydata.org/pandas-docs/stable/indexing.html#indexing-view-versus-copy\n",
      "  \n"
     ]
    }
   ],
   "source": [
    "(math_df['Score'], physics_df['Score'], ds_df['Score']) = map(\n",
    "    lambda df_series: df_series.fillna(0), (math_df.Score, physics_df.Score, ds_df.Score)\n",
    ")"
   ]
  },
  {
   "cell_type": "code",
   "execution_count": 10,
   "metadata": {},
   "outputs": [
    {
     "name": "stdout",
     "output_type": "stream",
     "text": [
      "====Math Info====\n",
      "<class 'pandas.core.frame.DataFrame'>\n",
      "RangeIndex: 599 entries, 0 to 598\n",
      "Data columns (total 5 columns):\n",
      "Score      599 non-null float64\n",
      "Age        599 non-null int64\n",
      "Subject    599 non-null object\n",
      "Sex        599 non-null object\n",
      "ID         599 non-null int64\n",
      "dtypes: float64(1), int64(2), object(2)\n",
      "memory usage: 23.5+ KB\n",
      "None\n",
      "====Physics Info====\n",
      "<class 'pandas.core.frame.DataFrame'>\n",
      "RangeIndex: 599 entries, 0 to 598\n",
      "Data columns (total 5 columns):\n",
      "Score      599 non-null float64\n",
      "Age        599 non-null int64\n",
      "Subject    599 non-null object\n",
      "Sex        599 non-null object\n",
      "ID         599 non-null int64\n",
      "dtypes: float64(1), int64(2), object(2)\n",
      "memory usage: 23.5+ KB\n",
      "None\n",
      "=====Data Structure Info=====\n",
      "<class 'pandas.core.frame.DataFrame'>\n",
      "RangeIndex: 599 entries, 0 to 598\n",
      "Data columns (total 5 columns):\n",
      "Score      599 non-null float64\n",
      "Age        599 non-null int64\n",
      "Subject    599 non-null object\n",
      "Sex        599 non-null object\n",
      "ID         599 non-null int64\n",
      "dtypes: float64(1), int64(2), object(2)\n",
      "memory usage: 23.5+ KB\n",
      "None\n"
     ]
    }
   ],
   "source": [
    "print(\"====Math Info====\")\n",
    "print(math_df.info())\n",
    "print(\"====Physics Info====\")\n",
    "print(physics_df.info())\n",
    "print(\"=====Data Structure Info=====\")\n",
    "print(ds_df.info())"
   ]
  },
  {
   "cell_type": "code",
   "execution_count": 11,
   "metadata": {
    "collapsed": true
   },
   "outputs": [],
   "source": [
    "# Merging all 3 dataframe \n",
    "scorecard_df = pd.concat([math_df, physics_df, ds_df])"
   ]
  },
  {
   "cell_type": "code",
   "execution_count": 12,
   "metadata": {},
   "outputs": [
    {
     "data": {
      "text/plain": [
       "(1797, 5)"
      ]
     },
     "execution_count": 12,
     "metadata": {},
     "output_type": "execute_result"
    }
   ],
   "source": [
    "scorecard_df.shape"
   ]
  },
  {
   "cell_type": "code",
   "execution_count": 13,
   "metadata": {
    "collapsed": true
   },
   "outputs": [],
   "source": [
    "def changeCategoryNumeric(sex):\n",
    "    if sex == 'M':\n",
    "        return 1\n",
    "    else:\n",
    "        return 2\n",
    "    "
   ]
  },
  {
   "cell_type": "code",
   "execution_count": 14,
   "metadata": {
    "collapsed": true
   },
   "outputs": [],
   "source": [
    "scorecard_df['Sex'] = scorecard_df['Sex'].apply(changeCategoryNumeric)"
   ]
  },
  {
   "cell_type": "code",
   "execution_count": 15,
   "metadata": {
    "collapsed": true
   },
   "outputs": [],
   "source": [
    "scorecard_df.to_csv('ScoreFinal.csv', index=False)"
   ]
  },
  {
   "cell_type": "code",
   "execution_count": 16,
   "metadata": {},
   "outputs": [
    {
     "name": "stdout",
     "output_type": "stream",
     "text": [
      "\u001b[1m\u001b[34m574_m4_datasets_v3\u001b[m\u001b[m/ CS2.ipynb           ScoreFinal.csv\r\n",
      "CS1.ipynb           \u001b[1m\u001b[34mDS_mod4\u001b[m\u001b[m/\r\n"
     ]
    }
   ],
   "source": [
    "ls"
   ]
  },
  {
   "cell_type": "code",
   "execution_count": 17,
   "metadata": {},
   "outputs": [
    {
     "name": "stdout",
     "output_type": "stream",
     "text": [
      "Score,Age,Subject,Sex,ID\r\n",
      "88.0,18,Maths,1,1\r\n",
      "85.0,19,Maths,1,2\r\n",
      "45.0,19,Maths,1,3\r\n",
      "82.0,18,Maths,1,4\r\n",
      "82.0,18,Maths,2,5\r\n",
      "95.0,20,Maths,1,6\r\n",
      "95.0,18,Maths,1,7\r\n",
      "65.0,19,Maths,1,8\r\n",
      "88.0,18,Maths,1,9\r\n"
     ]
    }
   ],
   "source": [
    "cat ScoreFinal.csv | head"
   ]
  },
  {
   "cell_type": "markdown",
   "metadata": {},
   "source": [
    "## Enhancement for code"
   ]
  },
  {
   "cell_type": "code",
   "execution_count": 18,
   "metadata": {
    "collapsed": true
   },
   "outputs": [],
   "source": [
    "# Convert ethnicity to numerical value\n",
    "def makeCategory(df, col = 'Ethinicity'):\n",
    "    df[col] = pd.Categorical(df[col])\n",
    "    return df"
   ]
  },
  {
   "cell_type": "code",
   "execution_count": 19,
   "metadata": {
    "collapsed": true
   },
   "outputs": [],
   "source": [
    "def categorizeDf(scoreCard):\n",
    "    cat_columns = list(scoreCard.select_dtypes(['category']).columns)\n",
    "    for col in cat_columns:\n",
    "        scoreCard[col] = scoreCard[col].astype('category')\n",
    "        scoreCard[col] = scoreCard.loc[:, col].cat.codes\n",
    "    return scoreCard"
   ]
  },
  {
   "cell_type": "code",
   "execution_count": 20,
   "metadata": {},
   "outputs": [],
   "source": [
    "math, physics, ds = map(makeCategory, (math, physics, ds))"
   ]
  },
  {
   "cell_type": "code",
   "execution_count": 21,
   "metadata": {},
   "outputs": [],
   "source": [
    "math, physics, ds = map(categorizeDf, (math, physics, ds))"
   ]
  },
  {
   "cell_type": "code",
   "execution_count": 22,
   "metadata": {
    "collapsed": true
   },
   "outputs": [],
   "source": [
    "means = [np.mean(df['Score'])for df in [math,physics,ds]]"
   ]
  },
  {
   "cell_type": "code",
   "execution_count": 23,
   "metadata": {},
   "outputs": [],
   "source": [
    "(math['Score'], physics['Score'], ds['Score']) = map(\n",
    "    lambda df_series: df_series.fillna(np.mean(df_series)), (math.Score, physics.Score, ds.Score)\n",
    ")"
   ]
  }
 ],
 "metadata": {
  "kernelspec": {
   "display_name": "Python 3",
   "language": "python",
   "name": "python3"
  },
  "language_info": {
   "codemirror_mode": {
    "name": "ipython",
    "version": 3
   },
   "file_extension": ".py",
   "mimetype": "text/x-python",
   "name": "python",
   "nbconvert_exporter": "python",
   "pygments_lexer": "ipython3",
   "version": "3.6.3"
  }
 },
 "nbformat": 4,
 "nbformat_minor": 2
}
